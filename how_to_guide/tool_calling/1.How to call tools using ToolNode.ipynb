{
 "cells": [
  {
   "cell_type": "code",
   "id": "initial_id",
   "metadata": {
    "collapsed": true,
    "ExecuteTime": {
     "end_time": "2025-05-05T07:07:15.586569Z",
     "start_time": "2025-05-05T07:07:15.573695Z"
    }
   },
   "source": [
    "from dotenv import load_dotenv\n",
    "\n",
    "load_dotenv()"
   ],
   "outputs": [
    {
     "data": {
      "text/plain": [
       "True"
      ]
     },
     "execution_count": 1,
     "metadata": {},
     "output_type": "execute_result"
    }
   ],
   "execution_count": 1
  },
  {
   "metadata": {},
   "cell_type": "markdown",
   "source": "## 도구 정의하기",
   "id": "9c3b40ccecbcbebd"
  },
  {
   "metadata": {
    "ExecuteTime": {
     "end_time": "2025-05-05T07:08:31.034568Z",
     "start_time": "2025-05-05T07:08:30.095905Z"
    }
   },
   "cell_type": "code",
   "source": [
    "from langchain_core.messages import AIMessage, HumanMessage\n",
    "from langchain_core.tools import tool\n",
    "\n",
    "from langgraph.prebuilt import ToolNode\n",
    "\n",
    "@tool\n",
    "def get_weather(location: str):\n",
    "    \"\"\"현재 날씨를 가져오는 호출\"\"\"\n",
    "    if location.lower() in [\"sf\", \"san francisco\"]:\n",
    "        return \"It's 60 degrees and foggy.\"\n",
    "    else:\n",
    "        return \"It's 90 degrees and sunny.\"\n",
    "\n",
    "@tool\n",
    "def get_coolest_cities():\n",
    "    \"\"\"가장 멋진 도시 목록 가져오기\"\"\"\n",
    "    return \"nyc, sf\"\n",
    "\n",
    "tools = [get_weather, get_coolest_cities]\n",
    "tool_node = ToolNode(tools)"
   ],
   "id": "192d70946c6b258b",
   "outputs": [],
   "execution_count": 2
  },
  {
   "metadata": {},
   "cell_type": "markdown",
   "source": [
    "## ToolNode 수동 호출하기\n",
    "\n",
    "`ToolNode`는 메시지 목록을 포함하는 그래프 상태를 기반으로 동작합니다.\n",
    "\n",
    "이때 메시지 목록의 마지막 항목은 `tool_calls` 파라미터가 포함된 `AIMessage`여야 합니다.\n",
    "\n",
    "먼저 ToolNode를 수동으로 호출하는 방법을 살펴봅니다:"
   ],
   "id": "314a0e99e27f59d1"
  },
  {
   "metadata": {
    "ExecuteTime": {
     "end_time": "2025-05-05T07:08:51.481671Z",
     "start_time": "2025-05-05T07:08:51.465385Z"
    }
   },
   "cell_type": "code",
   "source": [
    "message_with_single_tool_call = AIMessage(\n",
    "    content=\"\",\n",
    "    tool_calls=[\n",
    "        {\n",
    "            \"name\": \"get_weather\",\n",
    "            \"args\": {\"location\": \"sf\"},\n",
    "            \"id\": \"tool_call_id\",\n",
    "            \"type\": \"tool_call\",\n",
    "        }\n",
    "    ],\n",
    ")\n",
    "\n",
    "tool_node.invoke({\"messages\": [message_with_single_tool_call]})"
   ],
   "id": "3548c1ffaccc161e",
   "outputs": [
    {
     "data": {
      "text/plain": [
       "{'messages': [ToolMessage(content=\"It's 60 degrees and foggy.\", name='get_weather', tool_call_id='tool_call_id')]}"
      ]
     },
     "execution_count": 3,
     "metadata": {},
     "output_type": "execute_result"
    }
   ],
   "execution_count": 3
  },
  {
   "metadata": {},
   "cell_type": "markdown",
   "source": [
    "보통은 `AIMessage`를 수동으로 생성할 필요가 없으며, **도구 호출을 지원하는 LangChain의 챗 모델**이 이를 자동으로 생성해 줍니다.\n",
    "\n",
    "---\n",
    "\n",
    "## 병렬 도구 호출\n",
    "\n",
    "`AIMessage`의 `tool_calls` 파라미터에 여러 도구 호출을 넘기면 `ToolNode`는 병렬로 도구를 실행할 수 있습니다:"
   ],
   "id": "11b1657a05603b05"
  },
  {
   "metadata": {
    "ExecuteTime": {
     "end_time": "2025-05-05T07:10:35.688505Z",
     "start_time": "2025-05-05T07:10:35.681620Z"
    }
   },
   "cell_type": "code",
   "source": [
    "message_with_multiple_tool_calls = AIMessage(\n",
    "    content=\"\",\n",
    "    tool_calls=[\n",
    "        {\n",
    "            \"name\": \"get_coolest_cities\",\n",
    "            \"args\": {},\n",
    "            \"id\": \"tool_call_id_1\",\n",
    "            \"type\": \"tool_call\",\n",
    "        },\n",
    "        {\n",
    "            \"name\": \"get_weather\",\n",
    "            \"args\": {\"location\": \"sf\"},\n",
    "            \"id\": \"tool_call_id_2\",\n",
    "            \"type\": \"tool_call\",\n",
    "        },\n",
    "    ],\n",
    ")\n",
    "\n",
    "tool_node.invoke({\"messages\": [message_with_multiple_tool_calls]})"
   ],
   "id": "ddcb09289cb8fc57",
   "outputs": [
    {
     "data": {
      "text/plain": [
       "{'messages': [ToolMessage(content='nyc, sf', name='get_coolest_cities', tool_call_id='tool_call_id_1'),\n",
       "  ToolMessage(content=\"It's 60 degrees and foggy.\", name='get_weather', tool_call_id='tool_call_id_2')]}"
      ]
     },
     "execution_count": 4,
     "metadata": {},
     "output_type": "execute_result"
    }
   ],
   "execution_count": 4
  },
  {
   "metadata": {},
   "cell_type": "markdown",
   "source": [
    "## 챗 모델과 함께 사용하기\n",
    "\n",
    "도구 호출 기능과 함께 챗 모델을 사용하려면, **모델이 사용 가능한 도구들을 인식**할 수 있도록 먼저 설정해야 합니다.\n",
    "\n",
    "이를 위해 `ChatAnthropic` 모델의 `.bind_tools` 메서드를 호출합니다."
   ],
   "id": "927adf898cd92abd"
  },
  {
   "metadata": {
    "ExecuteTime": {
     "end_time": "2025-05-05T07:15:35.269074Z",
     "start_time": "2025-05-05T07:15:34.579141Z"
    }
   },
   "cell_type": "code",
   "source": [
    "from langchain_openai import AzureChatOpenAI\n",
    "import os\n",
    "\n",
    "llm = AzureChatOpenAI(\n",
    "    api_version=os.getenv(\"AZURE_OPENAI_API_VERSION\"),\n",
    "    model=\"gpt-4o\"\n",
    ")"
   ],
   "id": "c6f36b6b03c54f00",
   "outputs": [],
   "execution_count": 6
  },
  {
   "metadata": {
    "ExecuteTime": {
     "end_time": "2025-05-05T07:28:11.958146Z",
     "start_time": "2025-05-05T07:28:11.189477Z"
    }
   },
   "cell_type": "code",
   "source": [
    "from typing import Literal\n",
    "\n",
    "from langgraph.graph import StateGraph, MessagesState\n",
    "from langgraph.prebuilt import ToolNode\n",
    "\n",
    "model_with_tools = llm.bind_tools(tools)\n",
    "\n",
    "ai_msg = model_with_tools.invoke(\"nyc와 sf의 날씨를 알려줘\")\n",
    "ai_msg.pretty_print()\n",
    "ai_msg.tool_calls"
   ],
   "id": "de036759c806d767",
   "outputs": [
    {
     "name": "stdout",
     "output_type": "stream",
     "text": [
      "==================================\u001B[1m Ai Message \u001B[0m==================================\n",
      "Tool Calls:\n",
      "  get_weather (call_UVel2VMcw9JcesaYLTIGvww0)\n",
      " Call ID: call_UVel2VMcw9JcesaYLTIGvww0\n",
      "  Args:\n",
      "    location: New York City\n",
      "  get_weather (call_9x9N4og331OAE76kAi00hPBY)\n",
      " Call ID: call_9x9N4og331OAE76kAi00hPBY\n",
      "  Args:\n",
      "    location: San Francisco\n"
     ]
    },
    {
     "data": {
      "text/plain": [
       "[{'name': 'get_weather',\n",
       "  'args': {'location': 'New York City'},\n",
       "  'id': 'call_UVel2VMcw9JcesaYLTIGvww0',\n",
       "  'type': 'tool_call'},\n",
       " {'name': 'get_weather',\n",
       "  'args': {'location': 'San Francisco'},\n",
       "  'id': 'call_9x9N4og331OAE76kAi00hPBY',\n",
       "  'type': 'tool_call'}]"
      ]
     },
     "execution_count": 22,
     "metadata": {},
     "output_type": "execute_result"
    }
   ],
   "execution_count": 22
  },
  {
   "metadata": {},
   "cell_type": "markdown",
   "source": "복수의 tool이 호출 될 경우 아래와 같이 list에 각 tool의 호출 결과가 담긴다",
   "id": "c5f9af1fb45987c9"
  },
  {
   "metadata": {
    "ExecuteTime": {
     "end_time": "2025-05-05T07:22:22.818622Z",
     "start_time": "2025-05-05T07:22:22.813354Z"
    }
   },
   "cell_type": "code",
   "source": "tool_node.invoke({\"messages\": [ai_msg]})",
   "id": "f068f376c38b8c12",
   "outputs": [
    {
     "data": {
      "text/plain": [
       "{'messages': [ToolMessage(content=\"It's 90 degrees and sunny.\", name='get_weather', tool_call_id='call_BiZqrbE4thOMdlnGgvkenGNl'),\n",
       "  ToolMessage(content=\"It's 60 degrees and foggy.\", name='get_weather', tool_call_id='call_z5Q7SDkseY37BkDEqxZVDjll')]}"
      ]
     },
     "execution_count": 20,
     "metadata": {},
     "output_type": "execute_result"
    }
   ],
   "execution_count": 20
  },
  {
   "metadata": {},
   "cell_type": "markdown",
   "source": [
    "## ReAct Agent\n",
    "\n",
    "다음으로, `ToolNode`를 LangGraph 그래프 내에서 어떻게 사용하는지를 살펴보겠습니다.\n",
    "\n",
    "`ReAct agent`의 그래프 구현을 설정해보겠습니다. 이 에이전트는 어떤 질의를 입력으로 받아 도구들을 반복적으로 호출하면서, 해당 질의를 해결할 수 있을 만큼 충분한 정보를 얻을 때까지 작업을 진행합니다.\n",
    "\n",
    "우리는 앞서 정의한 도구들과 함께 `ToolNode`와 Anthropic 모델을 사용할 것입니다."
   ],
   "id": "fc66d01b4d77f1ad"
  },
  {
   "metadata": {
    "ExecuteTime": {
     "end_time": "2025-05-05T07:25:31.626926Z",
     "start_time": "2025-05-05T07:25:31.092666Z"
    }
   },
   "cell_type": "code",
   "source": [
    "from typing import Literal\n",
    "\n",
    "from langgraph.graph import StateGraph, MessagesState, START, END\n",
    "\n",
    "# 계속 진행할지 여부를 결정하는 함수\n",
    "def should_continue(state: MessagesState):\n",
    "    messages = state[\"messages\"]\n",
    "    last_message = messages[-1]\n",
    "    if last_message.tool_calls:\n",
    "        return \"tools\"  # 도구 호출이 있으면 tools 노드로 이동\n",
    "    return END  # 아니면 종료\n",
    "\n",
    "# 모델을 호출하는 함수\n",
    "def call_model(state: MessagesState):\n",
    "    messages = state[\"messages\"]\n",
    "    response = model_with_tools.invoke(messages)  # 도구가 포함된 모델에게 메시지를 전달\n",
    "    return {\"messages\": [response]}  # 응답 메시지를 리스트로 반환\n",
    "\n",
    "# 상태 그래프 생성\n",
    "workflow = StateGraph(MessagesState)\n",
    "\n",
    "# 반복 순환할 두 개의 노드를 정의\n",
    "workflow.add_node(\"agent\", call_model)  # 에이전트 노드\n",
    "workflow.add_node(\"tools\", tool_node)   # 도구 실행 노드\n",
    "\n",
    "# 그래프의 흐름 정의\n",
    "workflow.add_edge(START, \"agent\")  # 시작 노드에서 에이전트 노드로 이동\n",
    "workflow.add_conditional_edges(\"agent\", should_continue, [\"tools\", END])  # 조건부 분기\n",
    "workflow.add_edge(\"tools\", \"agent\")  # 도구 실행 후 다시 에이전트로\n",
    "\n",
    "# 워크플로우 컴파일\n",
    "app = workflow.compile()\n",
    "\n",
    "from IPython.display import Image, display\n",
    "\n",
    "# 그래프 시각화 (옵션: 추가 의존성 필요)\n",
    "try:\n",
    "    display(Image(app.get_graph().draw_mermaid_png()))\n",
    "except Exception:\n",
    "    # 이 시각화는 선택사항이며, 실패해도 문제 없음\n",
    "    pass\n"
   ],
   "id": "d4421d360b3bbd6c",
   "outputs": [
    {
     "data": {
      "image/png": "[encoded data removed]",
      "text/plain": [
       "<IPython.core.display.Image object>"
      ]
     },
     "metadata": {},
     "output_type": "display_data"
    }
   ],
   "execution_count": 21
  },
  {
   "metadata": {
    "ExecuteTime": {
     "end_time": "2025-05-05T07:30:52.596594Z",
     "start_time": "2025-05-05T07:30:51.137169Z"
    }
   },
   "cell_type": "code",
   "source": [
    "from langchain_core.messages import HumanMessage\n",
    "\n",
    "# example with a single tool call\n",
    "for chunk in app.stream(\n",
    "    {\"messages\": [HumanMessage(content=\"가장 멋진 도시들의 날씨를 알려줘\")]}, stream_mode=\"values\"\n",
    "):\n",
    "    chunk[\"messages\"][-1].pretty_print()"
   ],
   "id": "b76eb0becd079843",
   "outputs": [
    {
     "name": "stdout",
     "output_type": "stream",
     "text": [
      "================================\u001B[1m Human Message \u001B[0m=================================\n",
      "\n",
      "가장 멋진 도시들의 날씨를 알려줘\n",
      "==================================\u001B[1m Ai Message \u001B[0m==================================\n",
      "Tool Calls:\n",
      "  get_coolest_cities (call_D3hAPlh3XoDvooqJ5tMqhbeF)\n",
      " Call ID: call_D3hAPlh3XoDvooqJ5tMqhbeF\n",
      "  Args:\n",
      "=================================\u001B[1m Tool Message \u001B[0m=================================\n",
      "Name: get_coolest_cities\n",
      "\n",
      "nyc, sf\n",
      "==================================\u001B[1m Ai Message \u001B[0m==================================\n",
      "Tool Calls:\n",
      "  get_weather (call_12sv0jXKtMc9h17Ufjucvs35)\n",
      " Call ID: call_12sv0jXKtMc9h17Ufjucvs35\n",
      "  Args:\n",
      "    location: nyc\n",
      "  get_weather (call_IPIc9HOzSE07NmfOhYogUpFv)\n",
      " Call ID: call_IPIc9HOzSE07NmfOhYogUpFv\n",
      "  Args:\n",
      "    location: sf\n",
      "=================================\u001B[1m Tool Message \u001B[0m=================================\n",
      "Name: get_weather\n",
      "\n",
      "It's 60 degrees and foggy.\n",
      "==================================\u001B[1m Ai Message \u001B[0m==================================\n",
      "\n",
      "가장 멋진 도시들의 현재 날씨는 다음과 같습니다:\n",
      "\n",
      "- 뉴욕 (NYC): 90도이며 맑음\n",
      "- 샌프란시스코 (SF): 60도이고 안개 낌\n"
     ]
    }
   ],
   "execution_count": 25
  },
  {
   "metadata": {
    "ExecuteTime": {
     "end_time": "2025-05-05T07:34:22.738231Z",
     "start_time": "2025-05-05T07:34:22.734839Z"
    }
   },
   "cell_type": "code",
   "source": [
    "for msg in chunk[\"messages\"]:\n",
    "    msg.pretty_print()"
   ],
   "id": "2a396d7fc549c8b1",
   "outputs": [
    {
     "name": "stdout",
     "output_type": "stream",
     "text": [
      "================================\u001B[1m Human Message \u001B[0m=================================\n",
      "\n",
      "가장 멋진 도시들의 날씨를 알려줘\n",
      "==================================\u001B[1m Ai Message \u001B[0m==================================\n",
      "Tool Calls:\n",
      "  get_coolest_cities (call_D3hAPlh3XoDvooqJ5tMqhbeF)\n",
      " Call ID: call_D3hAPlh3XoDvooqJ5tMqhbeF\n",
      "  Args:\n",
      "=================================\u001B[1m Tool Message \u001B[0m=================================\n",
      "Name: get_coolest_cities\n",
      "\n",
      "nyc, sf\n",
      "==================================\u001B[1m Ai Message \u001B[0m==================================\n",
      "Tool Calls:\n",
      "  get_weather (call_12sv0jXKtMc9h17Ufjucvs35)\n",
      " Call ID: call_12sv0jXKtMc9h17Ufjucvs35\n",
      "  Args:\n",
      "    location: nyc\n",
      "  get_weather (call_IPIc9HOzSE07NmfOhYogUpFv)\n",
      " Call ID: call_IPIc9HOzSE07NmfOhYogUpFv\n",
      "  Args:\n",
      "    location: sf\n",
      "=================================\u001B[1m Tool Message \u001B[0m=================================\n",
      "Name: get_weather\n",
      "\n",
      "It's 90 degrees and sunny.\n",
      "=================================\u001B[1m Tool Message \u001B[0m=================================\n",
      "Name: get_weather\n",
      "\n",
      "It's 60 degrees and foggy.\n",
      "==================================\u001B[1m Ai Message \u001B[0m==================================\n",
      "\n",
      "가장 멋진 도시들의 현재 날씨는 다음과 같습니다:\n",
      "\n",
      "- 뉴욕 (NYC): 90도이며 맑음\n",
      "- 샌프란시스코 (SF): 60도이고 안개 낌\n"
     ]
    }
   ],
   "execution_count": 38
  },
  {
   "metadata": {},
   "cell_type": "code",
   "outputs": [],
   "execution_count": null,
   "source": "",
   "id": "5116dea434aa3934"
  }
 ],
 "metadata": {
  "kernelspec": {
   "display_name": "Python 3",
   "language": "python",
   "name": "python3"
  },
  "language_info": {
   "codemirror_mode": {
    "name": "ipython",
    "version": 2
   },
   "file_extension": ".py",
   "mimetype": "text/x-python",
   "name": "python",
   "nbconvert_exporter": "python",
   "pygments_lexer": "ipython2",
   "version": "2.7.6"
  }
 },
 "nbformat": 4,
 "nbformat_minor": 5
}
