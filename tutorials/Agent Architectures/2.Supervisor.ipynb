{
 "cells": [
  {
   "cell_type": "markdown",
   "id": "697e0a27",
   "metadata": {},
   "source": [
    "# Multi-agent supervisor\n",
    "\n",
    "1. Research와 math agents를 빌드\n",
    "2. prebuilt \"langgraph-supervisor\"를 이용해서 supervisor를 빌드"
   ]
  },
  {
   "cell_type": "markdown",
   "id": "initial_id",
   "metadata": {
    "ExecuteTime": {
     "end_time": "2025-04-30T02:52:11.655333Z",
     "start_time": "2025-04-30T02:52:10.216918Z"
    },
    "collapsed": true
   },
   "source": [
    "### 1.Worker Agent 만들기\n",
    "\n",
    "- Research agent : Tavily API를 이용해서 웹서치를 수행\n",
    "- Math agent : simple math tools를 이용"
   ]
  },
  {
   "cell_type": "code",
   "execution_count": 1,
   "id": "25deaf44",
   "metadata": {
    "ExecuteTime": {
     "end_time": "2025-05-03T12:26:38.950673Z",
     "start_time": "2025-05-03T12:26:38.938730Z"
    }
   },
   "outputs": [
    {
     "data": {
      "text/plain": [
       "True"
      ]
     },
     "execution_count": 1,
     "metadata": {},
     "output_type": "execute_result"
    }
   ],
   "source": [
    "from dotenv import load_dotenv\n",
    "\n",
    "load_dotenv()\n"
   ]
  },
  {
   "cell_type": "code",
   "execution_count": 2,
   "id": "184dad0e",
   "metadata": {
    "ExecuteTime": {
     "end_time": "2025-05-03T12:26:42.077713Z",
     "start_time": "2025-05-03T12:26:38.988369Z"
    }
   },
   "outputs": [
    {
     "name": "stdout",
     "output_type": "stream",
     "text": [
      "[{'title': 'List of capitals of France - Wikipedia', 'url': 'https://en.wikipedia.org/wiki/List_of_capitals_of_France', 'content': 'Find sources:\\xa0\"List of capitals of France\"\\xa0–\\xa0news\\xa0· newspapers\\xa0· books\\xa0· scholar\\xa0· JSTOR (July 2012) (Learn how and when to remove this message)\\nThis is a chronological list of capitals of France. The capital of France has been Paris since its liberation in 1944.[1]\\nChronology[edit]\\nTournai (before 486), current-day Belgium\\nSoissons (486–936)\\nLaon (936–987)\\nParis (987–1419), the residence of the Kings of France, although they were consecrated at Reims. [...] Bordeaux (September 1914), the government was relocated from Paris to Bordeaux very briefly during World War I, when it was feared that Paris would soon fall into German hands. These fears were alleviated after the German Army was pushed back at the First Battle of the Marne.\\nTours (10–13 June 1940), the city served as the temporary capital of France during World War II after the government fled Paris due to the German advance. [...] Paris (1789–1871), on 5 and 6 October 1789, a throng from Paris invaded the castle and forced the royal family to move back to Paris. The National Constituent Assembly followed the King to Paris soon afterward; Versailles lost its role of capital city.\\nProvisional seats of the government:\\nVersailles (1871), the French Third Republic established Versailles as its provisional seat of government in March 1871 after the Paris Commune took control of Paris.', 'score': 0.9372167}, {'title': 'Paris facts: the capital of France in history', 'url': 'https://home.adelphi.edu/~ca19535/page%204.html', 'content': 'Home    Spain\\n    Sydney\\n    San Francisco\\n    Paris\\n    Las Vegas\\n    Maui\\nParis, France\\nParis facts: Paris, the capital of France\\nParis is the capital of France, the largest country of Europe with 550 000 km2 (65 millions inhabitants).\\nParis has 2.234 million inhabitants end 2011. She is the core of Ile de France region (12 million people). [...] Paris facts: the capital of France in history\\nBefore Paris, the capital of France was Lyon (under the Romans). Paris first became the capital of France in 508 under King Clovis. After centuries with no unique capital of France, Paris retrieved its status of capital of France under King Philippe Auguste, who reigned between 1180 and 1223. You can see remains of the Philippe August Paris walls in the passageway between the Louvre parking and Louvre Museum [...] Paris remained the capital of France until today, with one four year interruption. During German occupation (WW2 , 1940-1944), the capital of France was Vichy.\\ngo to top\\nReference: http://www.parisdigest.com/information/facts.htm', 'score': 0.902687}, {'title': 'Paris - Wikipedia', 'url': 'https://en.wikipedia.org/wiki/Paris', 'content': 'Paris (French pronunciation: [paʁi] ⓘ) is the capital and largest city of France. With an estimated population of 2,048,472 residents in January 2025[3] in an area of more than 105\\xa0km2 (41\\xa0sq\\xa0mi),[4] Paris is the fourth-most populous city in the European Union and the 30th most densely populated city in the world in 2022.[5] Since the 17th century, Paris has been one of the world\\'s major centres of finance, diplomacy, commerce, culture, fashion, and gastronomy. Because of its leading role in [...] Appearance\\nmove to sidebar hide\\nCoordinates: 48°51′24″N 2°21′8″E / 48.85667°N 2.35222°E / 48.85667; 2.35222\\n\\n\\nFrom Wikipedia, the free encyclopedia\\nCapital and largest city of France\\nThis article is about the capital city of France. For other uses, see Paris (disambiguation).\\n\"Parisien\" redirects here. For other uses, see Parisien (disambiguation).\\nPlace in Île-de-France, France\\n| \\nParis\\n|\\n| --- |\\n| \\nCapital city, commune and department\\n|\\n| \\n\\nEiffel Tower and the Seine from Tour Saint-Jacques [...] The Élysée Palace, official residence of the President of France\\nAs the capital of France, Paris is the seat of France\\'s national government. For the executive, the two chief officers each have their own official residences, which also serve as their offices. The President of the French Republic resides at the Élysée Palace.[120] The Prime Minister\\'s seat is at the Hôtel Matignon.[121][122] Government ministries are located in various parts of the city, many near the Hôtel Matignon.[123]', 'score': 0.8898454}, {'title': 'Paris | Definition, Map, Population, Facts, & History - Britannica', 'url': 'https://www.britannica.com/place/Paris', 'content': \"Paris is the capital of what country?\\nParis is the national capital of France.\\nNews •\\nJD Vance will attend AI summit in Paris and Munich security conference in first overseas trip as VP • Feb. 4, 2025, 11:53 AM ET (AP) ...(Show more)\\nFilm director found guilty of sexual assault in France’s first big #MeToo trial • Feb. 3, 2025, 9:20 AM ET (AP)\\nGisèle Pelicot's ex-husband, imprisoned for raping and drugging her, now caught up in other cases • Jan. 30, 2025, 11:56 AM ET (AP)\", 'score': 0.8752871}]\n"
     ]
    }
   ],
   "source": [
    "from langchain_community.tools.tavily_search import TavilySearchResults\n",
    "\n",
    "web_search = TavilySearchResults(max_results=4)\n",
    "web_search_result = web_search.invoke(\"What is the capital of France?\")\n",
    "\n",
    "print(web_search_result)\n"
   ]
  },
  {
   "cell_type": "code",
   "execution_count": 3,
   "id": "abb8eee7",
   "metadata": {
    "ExecuteTime": {
     "end_time": "2025-05-03T12:27:02.640046Z",
     "start_time": "2025-05-03T12:27:00.681140Z"
    }
   },
   "outputs": [],
   "source": [
    "from langgraph.prebuilt import create_react_agent\n",
    "from langchain_openai import ChatOpenAI\n",
    "\n",
    "llm = ChatOpenAI(model=\"gpt-4o-mini\", temperature=0)\n",
    "prompt_research = \"\"\"\n",
    "        \"You are a research agent.\\n\\n\"\n",
    "        \"INSTRUCTIONS:\\n\"\n",
    "        \"- Assist ONLY with research-related tasks, DO NOT do any math\\n\"\n",
    "        \"- After you're done with your tasks, respond to the supervisor directly\\n\"\n",
    "        \"- Respond ONLY with the results of your work, do NOT include ANY other text.\"\n",
    "\"\"\"\n",
    "\n",
    "research_agent = create_react_agent(\n",
    "    model=llm,\n",
    "    tools=[web_search],\n",
    "    prompt=prompt_research,\n",
    "    name = \"research_agent\",\n",
    ")"
   ]
  },
  {
   "cell_type": "code",
   "execution_count": 4,
   "id": "25bdbd6cabbf5eed",
   "metadata": {
    "ExecuteTime": {
     "end_time": "2025-05-03T12:28:44.508467Z",
     "start_time": "2025-05-03T12:28:26.722026Z"
    }
   },
   "outputs": [
    {
     "name": "stdout",
     "output_type": "stream",
     "text": [
      "{'agent': {'messages': [AIMessage(content='', additional_kwargs={'tool_calls': [{'id': 'call_ItMnzRXSr8ZVZORUiZCPLa5g', 'function': {'arguments': '{\"query\":\"current mayor of New York City 2023\"}', 'name': 'tavily_search_results_json'}, 'type': 'function'}], 'refusal': None}, response_metadata={'token_usage': {'completion_tokens': 27, 'prompt_tokens': 151, 'total_tokens': 178, 'completion_tokens_details': {'accepted_prediction_tokens': 0, 'audio_tokens': 0, 'reasoning_tokens': 0, 'rejected_prediction_tokens': 0}, 'prompt_tokens_details': {'audio_tokens': 0, 'cached_tokens': 0}}, 'model_name': 'gpt-4o-mini-2024-07-18', 'system_fingerprint': 'fp_129a36352a', 'id': 'chatcmpl-BT6f4i8FU1YFxHE0bWQfKte5VFVNm', 'finish_reason': 'tool_calls', 'logprobs': None}, name='research_agent', id='run-9bdb7d61-c671-43e9-89c5-ce81df191bf5-0', tool_calls=[{'name': 'tavily_search_results_json', 'args': {'query': 'current mayor of New York City 2023'}, 'id': 'call_ItMnzRXSr8ZVZORUiZCPLa5g', 'type': 'tool_call'}], usage_metadata={'input_tokens': 151, 'output_tokens': 27, 'total_tokens': 178, 'input_token_details': {'audio': 0, 'cache_read': 0}, 'output_token_details': {'audio': 0, 'reasoning': 0}})]}}\n",
      "{'tools': {'messages': [ToolMessage(content='[{\"title\": \"Eric Adams - Wikipedia\", \"url\": \"https://en.wikipedia.org/wiki/Eric_Adams\", \"content\": \"110thMayor of New York City\\\\nIncumbent\\\\nAssumed officeJanuary 1, 2022\\\\nDeputy | Lorraine Grillo(2022)Sheena Wright(2023–2024)Maria Torres-Springer(2024–2025)Camille Joseph Varlack(2025; interim)[1][2]Randy Mastro(2025–present)\\\\nPreceded by | Bill de Blasio\\\\n18thBorough PresidentofBrooklyn\\\\nIn officeJanuary 1, 2014\\xa0– December 31, 2021\\\\nDeputy | Diana ReynaIngrid Lewis-Martin\\\\nPreceded by | Marty Markowitz\\\\nSucceeded by | Antonio Reynoso\\\\nMember of theNew York State Senatefrom the20thdistrict [...] of annotations to the op-ed,[153] \\\\\"call[ing] the mayor\\'s arguments \\'wrong,\\' \\'misleading,\\' \\'gaslighting\\' and \\'alternative facts\\'\\\\\".[151] On July 13, 2023, the City Council overrode the Mayor\\'s veto by a vote of 42–8, marking the first veto override since the administration of Michael Bloomberg.[150][151] The New York Times described the override as \\\\\"another example of the increasingly confrontational relationship between the City Council and the mayor\\\\\",[151] and City & State said that it was \\\\\"a [...] Preceded\\xa0byCarl Andrews | Member of theNew York State Senatefrom the20thdistrict2007–2013 | Succeeded\\xa0byJesse Hamilton\\\\nPolitical offices\\\\nPreceded\\xa0byMarty Markowitz | Borough PresidentofBrooklyn2014–2022 | Succeeded\\xa0byAntonio Reynoso\\\\nPreceded\\xa0byBill de Blasio | Mayor of New York City2022–present | Incumbent\\\\nParty political offices\\\\nPreceded\\xa0byBill de Blasio | Democraticnominee forMayor of New York City2021 | Most recent\\\\nvteMayors of New York Citysince the1898 consolidation\", \"score\": 0.8719229}, {\"title\": \"New York City Mayor Eric Adams\\'s administration is in chaos ... - CNN\", \"url\": \"https://www.cnn.com/2024/09/16/politics/eric-adams-new-york-mayor-chief-counsel\", \"content\": \"That  message, though, has become increasingly tough to get across – and not  only because of his Covid quarantine. In some of the most recent,  in-depth polling, from December 2023, when he was only facing a probe  into his campaign fundraising, Adams’s overall approval rating dropped  to a staggering 28%, according to a Quinnipiac University survey.\", \"score\": 0.71829855}, {\"title\": \"Eric Adams (New York) - Ballotpedia\", \"url\": \"https://ballotpedia.org/Eric_Adams_(New_York)\", \"content\": \"Official Twitter\\\\n\\\\nOfficial Instagram\\\\n\\\\nCampaign Facebook\\\\n\\\\nCampaign Twitter\\\\n\\\\nCampaign Instagram\\\\n\\\\nPersonal Facebook\\\\n\\\\nPersonal LinkedIn\\\\n\\\\n\\\\n\\\\nEric Adams (Democratic Party) is the Mayor of New York. He assumed office on January 1, 2022. His current term ends on January 1, 2026.\\\\n\\\\nAdams (independent) is running for re-election for Mayor of New York. He declared candidacy  for the general election scheduled on November 4, 2025. [...] Before Eric Adams\\' withdrawal, an Emerson College poll taken between March 21-24 of 653 likely voters and a margin of ± 3.8% showed Cuomo in the lead with 38%, Mamdani with 10%, Adams with 8%, with other leading candidates polling at 4-6% support.[15] New York Daily News\\' Chris Sommerfeldt wrote the poll\\'s findings \\\\\"come even as [Cuomo and Mamdani are] positioning themselves on the diametrically opposite ends of the Democratic Party spectrum.\\\\\"[16] [...] | There were noincumbentsin this race. The results have been certified.Source | Total votes: 60,051\\\\n= candidate completed the Ballotpedia Candidate Connectionsurvey.\\\\n\\\\n\\\\nThere were no incumbents in this race. The results have been certified.\\xa0Source\\\\n\\\\n\\\\n\\\\nWithdrawn or disqualified candidates\\\\n\\\\nConservative Party primary election\\\\n\\\\nThe Conservative Party\\xa0primary election was canceled. William Pepitone  advanced  from the  Conservative Party primary for Mayor of New York.\", \"score\": 0.6757865}, {\"title\": \"Who\\'s who in Eric Adams\\' administration - City & State New York\", \"url\": \"https://www.cityandstateny.com/politics/2025/01/whos-who-eric-adams-administration/360056/\", \"content\": \"An alum of the Economic Development Corp., Hutchinson officially took the reins of the mayor’s climate office in September 2023, following former executive director Kizzy Charles-Guzman’s departure for the city Department of Environmental Protection in May 2023. Hutchinson previously led EDC’s work on coastal resiliency and greenway projects.\\\\n\\\\nMayor’s Office of Community Mental Health director: Eva Wong [...] Denise C. Clay took over for Melanie La Rocca as chief efficiency officer, a role created by Adams and intended to monitor and improve performance of city agencies. Clay previously served as chief operating officer for First Deputy Mayor Sheena Wright. Clay’s appointment was announced on Aug. 10, 2023.\\\\n\\\\nChief Technology Officer: Matt Fraser [...] Deputy mayor for communications: Fabien Levy\\\\n\\\\nAdams’ enthusiastic press secretary Fabien Levy was promoted to the somewhat newly created role of deputy mayor for communications on Aug. 14, 2023. Levy previously served as Attorney General Letitia James’ press secretary, but joined the Adams administration at its start. Levy spearheads the administration’s messaging strategy –\\xa0a focus of the mayor’s as he objects to criticism in the press.\\\\n\\\\nChief counsel to the mayor: Allison Stoddart\", \"score\": 0.66569364}]', name='tavily_search_results_json', id='1fdc8738-c725-4da2-a9bb-a0cb99350b4c', tool_call_id='call_ItMnzRXSr8ZVZORUiZCPLa5g', artifact={'query': 'current mayor of New York City 2023', 'follow_up_questions': None, 'answer': None, 'images': [], 'results': [{'url': 'https://en.wikipedia.org/wiki/Eric_Adams', 'title': 'Eric Adams - Wikipedia', 'content': '110thMayor of New York City\\nIncumbent\\nAssumed officeJanuary 1, 2022\\nDeputy | Lorraine Grillo(2022)Sheena Wright(2023–2024)Maria Torres-Springer(2024–2025)Camille Joseph Varlack(2025; interim)[1][2]Randy Mastro(2025–present)\\nPreceded by | Bill de Blasio\\n18thBorough PresidentofBrooklyn\\nIn officeJanuary 1, 2014\\xa0– December 31, 2021\\nDeputy | Diana ReynaIngrid Lewis-Martin\\nPreceded by | Marty Markowitz\\nSucceeded by | Antonio Reynoso\\nMember of theNew York State Senatefrom the20thdistrict [...] of annotations to the op-ed,[153] \"call[ing] the mayor\\'s arguments \\'wrong,\\' \\'misleading,\\' \\'gaslighting\\' and \\'alternative facts\\'\".[151] On July 13, 2023, the City Council overrode the Mayor\\'s veto by a vote of 42–8, marking the first veto override since the administration of Michael Bloomberg.[150][151] The New York Times described the override as \"another example of the increasingly confrontational relationship between the City Council and the mayor\",[151] and City & State said that it was \"a [...] Preceded\\xa0byCarl Andrews | Member of theNew York State Senatefrom the20thdistrict2007–2013 | Succeeded\\xa0byJesse Hamilton\\nPolitical offices\\nPreceded\\xa0byMarty Markowitz | Borough PresidentofBrooklyn2014–2022 | Succeeded\\xa0byAntonio Reynoso\\nPreceded\\xa0byBill de Blasio | Mayor of New York City2022–present | Incumbent\\nParty political offices\\nPreceded\\xa0byBill de Blasio | Democraticnominee forMayor of New York City2021 | Most recent\\nvteMayors of New York Citysince the1898 consolidation', 'score': 0.8719229, 'raw_content': None}, {'url': 'https://www.cnn.com/2024/09/16/politics/eric-adams-new-york-mayor-chief-counsel', 'title': \"New York City Mayor Eric Adams's administration is in chaos ... - CNN\", 'content': 'That  message, though, has become increasingly tough to get across – and not  only because of his Covid quarantine. In some of the most recent,  in-depth polling, from December 2023, when he was only facing a probe  into his campaign fundraising, Adams’s overall approval rating dropped  to a staggering 28%, according to a Quinnipiac University survey.', 'score': 0.71829855, 'raw_content': None}, {'url': 'https://ballotpedia.org/Eric_Adams_(New_York)', 'title': 'Eric Adams (New York) - Ballotpedia', 'content': 'Official Twitter\\n\\nOfficial Instagram\\n\\nCampaign Facebook\\n\\nCampaign Twitter\\n\\nCampaign Instagram\\n\\nPersonal Facebook\\n\\nPersonal LinkedIn\\n\\n\\n\\nEric Adams (Democratic Party) is the Mayor of New York. He assumed office on January 1, 2022. His current term ends on January 1, 2026.\\n\\nAdams (independent) is running for re-election for Mayor of New York. He declared candidacy  for the general election scheduled on November 4, 2025. [...] Before Eric Adams\\' withdrawal, an Emerson College poll taken between March 21-24 of 653 likely voters and a margin of ± 3.8% showed Cuomo in the lead with 38%, Mamdani with 10%, Adams with 8%, with other leading candidates polling at 4-6% support.[15] New York Daily News\\' Chris Sommerfeldt wrote the poll\\'s findings \"come even as [Cuomo and Mamdani are] positioning themselves on the diametrically opposite ends of the Democratic Party spectrum.\"[16] [...] | There were noincumbentsin this race. The results have been certified.Source | Total votes: 60,051\\n= candidate completed the Ballotpedia Candidate Connectionsurvey.\\n\\n\\nThere were no incumbents in this race. The results have been certified.\\xa0Source\\n\\n\\n\\nWithdrawn or disqualified candidates\\n\\nConservative Party primary election\\n\\nThe Conservative Party\\xa0primary election was canceled. William Pepitone  advanced  from the  Conservative Party primary for Mayor of New York.', 'score': 0.6757865, 'raw_content': None}, {'url': 'https://www.cityandstateny.com/politics/2025/01/whos-who-eric-adams-administration/360056/', 'title': \"Who's who in Eric Adams' administration - City & State New York\", 'content': 'An alum of the Economic Development Corp., Hutchinson officially took the reins of the mayor’s climate office in September 2023, following former executive director Kizzy Charles-Guzman’s departure for the city Department of Environmental Protection in May 2023. Hutchinson previously led EDC’s work on coastal resiliency and greenway projects.\\n\\nMayor’s Office of Community Mental Health director: Eva Wong [...] Denise C. Clay took over for Melanie La Rocca as chief efficiency officer, a role created by Adams and intended to monitor and improve performance of city agencies. Clay previously served as chief operating officer for First Deputy Mayor Sheena Wright. Clay’s appointment was announced on Aug. 10, 2023.\\n\\nChief Technology Officer: Matt Fraser [...] Deputy mayor for communications: Fabien Levy\\n\\nAdams’ enthusiastic press secretary Fabien Levy was promoted to the somewhat newly created role of deputy mayor for communications on Aug. 14, 2023. Levy previously served as Attorney General Letitia James’ press secretary, but joined the Adams administration at its start. Levy spearheads the administration’s messaging strategy –\\xa0a focus of the mayor’s as he objects to criticism in the press.\\n\\nChief counsel to the mayor: Allison Stoddart', 'score': 0.66569364, 'raw_content': None}], 'response_time': 3.28})]}}\n",
      "{'agent': {'messages': [AIMessage(content='The current mayor of New York City is Eric Adams, who has been in office since January 1, 2022.', additional_kwargs={'refusal': None}, response_metadata={'token_usage': {'completion_tokens': 27, 'prompt_tokens': 1491, 'total_tokens': 1518, 'completion_tokens_details': {'accepted_prediction_tokens': 0, 'audio_tokens': 0, 'reasoning_tokens': 0, 'rejected_prediction_tokens': 0}, 'prompt_tokens_details': {'audio_tokens': 0, 'cached_tokens': 0}}, 'model_name': 'gpt-4o-mini-2024-07-18', 'system_fingerprint': 'fp_129a36352a', 'id': 'chatcmpl-BT6f9Fu58tqhFudYV4A0ASO4hu6xm', 'finish_reason': 'stop', 'logprobs': None}, name='research_agent', id='run-d93cdc85-6858-441e-b163-2c81fa8ce512-0', usage_metadata={'input_tokens': 1491, 'output_tokens': 27, 'total_tokens': 1518, 'input_token_details': {'audio': 0, 'cache_read': 0}, 'output_token_details': {'audio': 0, 'reasoning': 0}})]}}\n"
     ]
    }
   ],
   "source": [
    "\n",
    "list_chunk = list()\n",
    "\n",
    "\n",
    "for chunk in research_agent.stream(\n",
    "    {\"messages\": [{\"role\": \"user\", \"content\": \"who is the mayor of NYC\"}]}\n",
    "):\n",
    "    list_chunk.append(chunk)\n",
    "    print(chunk)\n"
   ]
  },
  {
   "cell_type": "code",
   "execution_count": 5,
   "id": "7a10df45",
   "metadata": {},
   "outputs": [],
   "source": [
    "from langchain_core.messages import convert_to_messages\n",
    "\n",
    "\n",
    "def pretty_print_message(message, indent=False):\n",
    "    pretty_message = message.pretty_repr(html=True)\n",
    "    if not indent:\n",
    "        print(pretty_message)\n",
    "        return\n",
    "\n",
    "    indented = \"\\n\".join(\"\\t\" + c for c in pretty_message.split(\"\\n\"))\n",
    "    print(indented)\n",
    "\n",
    "\n",
    "def pretty_print_messages(update, last_message=False):\n",
    "    is_subgraph = False\n",
    "    if isinstance(update, tuple):\n",
    "        ns, update = update\n",
    "        # skip parent graph updates in the printouts\n",
    "        if len(ns) == 0:\n",
    "            return\n",
    "\n",
    "        graph_id = ns[-1].split(\":\")[0]\n",
    "        print(f\"Update from subgraph {graph_id}:\")\n",
    "        print(\"\\n\")\n",
    "        is_subgraph = True\n",
    "\n",
    "    for node_name, node_update in update.items():\n",
    "        update_label = f\"Update from node {node_name}:\"\n",
    "        if is_subgraph:\n",
    "            update_label = \"\\t\" + update_label\n",
    "\n",
    "        print(update_label)\n",
    "        print(\"\\n\")\n",
    "\n",
    "        messages = convert_to_messages(node_update[\"messages\"])\n",
    "        if last_message:\n",
    "            messages = messages[-1:]\n",
    "\n",
    "        for m in messages:\n",
    "            pretty_print_message(m, indent=is_subgraph)\n",
    "        print(\"\\n\")"
   ]
  },
  {
   "cell_type": "code",
   "execution_count": 6,
   "id": "ac9a0f1533998342",
   "metadata": {},
   "outputs": [
    {
     "name": "stdout",
     "output_type": "stream",
     "text": [
      "Update from node agent:\n",
      "\n",
      "\n",
      "==================================\u001b[1m Ai Message \u001b[0m==================================\n",
      "Name: research_agent\n",
      "Tool Calls:\n",
      "  tavily_search_results_json (call_ItMnzRXSr8ZVZORUiZCPLa5g)\n",
      " Call ID: call_ItMnzRXSr8ZVZORUiZCPLa5g\n",
      "  Args:\n",
      "    query: current mayor of New York City 2023\n",
      "\n",
      "\n",
      "Update from node tools:\n",
      "\n",
      "\n",
      "=================================\u001b[1m Tool Message \u001b[0m=================================\n",
      "Name: tavily_search_results_json\n",
      "\n",
      "[{\"title\": \"Eric Adams - Wikipedia\", \"url\": \"https://en.wikipedia.org/wiki/Eric_Adams\", \"content\": \"110thMayor of New York City\\nIncumbent\\nAssumed officeJanuary 1, 2022\\nDeputy | Lorraine Grillo(2022)Sheena Wright(2023–2024)Maria Torres-Springer(2024–2025)Camille Joseph Varlack(2025; interim)[1][2]Randy Mastro(2025–present)\\nPreceded by | Bill de Blasio\\n18thBorough PresidentofBrooklyn\\nIn officeJanuary 1, 2014 – December 31, 2021\\nDeputy | Diana ReynaIngrid Lewis-Martin\\nPreceded by | Marty Markowitz\\nSucceeded by | Antonio Reynoso\\nMember of theNew York State Senatefrom the20thdistrict [...] of annotations to the op-ed,[153] \\\"call[ing] the mayor's arguments 'wrong,' 'misleading,' 'gaslighting' and 'alternative facts'\\\".[151] On July 13, 2023, the City Council overrode the Mayor's veto by a vote of 42–8, marking the first veto override since the administration of Michael Bloomberg.[150][151] The New York Times described the override as \\\"another example of the increasingly confrontational relationship between the City Council and the mayor\\\",[151] and City & State said that it was \\\"a [...] Preceded byCarl Andrews | Member of theNew York State Senatefrom the20thdistrict2007–2013 | Succeeded byJesse Hamilton\\nPolitical offices\\nPreceded byMarty Markowitz | Borough PresidentofBrooklyn2014–2022 | Succeeded byAntonio Reynoso\\nPreceded byBill de Blasio | Mayor of New York City2022–present | Incumbent\\nParty political offices\\nPreceded byBill de Blasio | Democraticnominee forMayor of New York City2021 | Most recent\\nvteMayors of New York Citysince the1898 consolidation\", \"score\": 0.8719229}, {\"title\": \"New York City Mayor Eric Adams's administration is in chaos ... - CNN\", \"url\": \"https://www.cnn.com/2024/09/16/politics/eric-adams-new-york-mayor-chief-counsel\", \"content\": \"That  message, though, has become increasingly tough to get across – and not  only because of his Covid quarantine. In some of the most recent,  in-depth polling, from December 2023, when he was only facing a probe  into his campaign fundraising, Adams’s overall approval rating dropped  to a staggering 28%, according to a Quinnipiac University survey.\", \"score\": 0.71829855}, {\"title\": \"Eric Adams (New York) - Ballotpedia\", \"url\": \"https://ballotpedia.org/Eric_Adams_(New_York)\", \"content\": \"Official Twitter\\n\\nOfficial Instagram\\n\\nCampaign Facebook\\n\\nCampaign Twitter\\n\\nCampaign Instagram\\n\\nPersonal Facebook\\n\\nPersonal LinkedIn\\n\\n\\n\\nEric Adams (Democratic Party) is the Mayor of New York. He assumed office on January 1, 2022. His current term ends on January 1, 2026.\\n\\nAdams (independent) is running for re-election for Mayor of New York. He declared candidacy  for the general election scheduled on November 4, 2025. [...] Before Eric Adams' withdrawal, an Emerson College poll taken between March 21-24 of 653 likely voters and a margin of ± 3.8% showed Cuomo in the lead with 38%, Mamdani with 10%, Adams with 8%, with other leading candidates polling at 4-6% support.[15] New York Daily News' Chris Sommerfeldt wrote the poll's findings \\\"come even as [Cuomo and Mamdani are] positioning themselves on the diametrically opposite ends of the Democratic Party spectrum.\\\"[16] [...] | There were noincumbentsin this race. The results have been certified.Source | Total votes: 60,051\\n= candidate completed the Ballotpedia Candidate Connectionsurvey.\\n\\n\\nThere were no incumbents in this race. The results have been certified. Source\\n\\n\\n\\nWithdrawn or disqualified candidates\\n\\nConservative Party primary election\\n\\nThe Conservative Party primary election was canceled. William Pepitone  advanced  from the  Conservative Party primary for Mayor of New York.\", \"score\": 0.6757865}, {\"title\": \"Who's who in Eric Adams' administration - City & State New York\", \"url\": \"https://www.cityandstateny.com/politics/2025/01/whos-who-eric-adams-administration/360056/\", \"content\": \"An alum of the Economic Development Corp., Hutchinson officially took the reins of the mayor’s climate office in September 2023, following former executive director Kizzy Charles-Guzman’s departure for the city Department of Environmental Protection in May 2023. Hutchinson previously led EDC’s work on coastal resiliency and greenway projects.\\n\\nMayor’s Office of Community Mental Health director: Eva Wong [...] Denise C. Clay took over for Melanie La Rocca as chief efficiency officer, a role created by Adams and intended to monitor and improve performance of city agencies. Clay previously served as chief operating officer for First Deputy Mayor Sheena Wright. Clay’s appointment was announced on Aug. 10, 2023.\\n\\nChief Technology Officer: Matt Fraser [...] Deputy mayor for communications: Fabien Levy\\n\\nAdams’ enthusiastic press secretary Fabien Levy was promoted to the somewhat newly created role of deputy mayor for communications on Aug. 14, 2023. Levy previously served as Attorney General Letitia James’ press secretary, but joined the Adams administration at its start. Levy spearheads the administration’s messaging strategy – a focus of the mayor’s as he objects to criticism in the press.\\n\\nChief counsel to the mayor: Allison Stoddart\", \"score\": 0.66569364}]\n",
      "\n",
      "\n",
      "Update from node agent:\n",
      "\n",
      "\n",
      "==================================\u001b[1m Ai Message \u001b[0m==================================\n",
      "Name: research_agent\n",
      "\n",
      "The current mayor of New York City is Eric Adams, who has been in office since January 1, 2022.\n",
      "\n",
      "\n"
     ]
    }
   ],
   "source": [
    "for chunk in list_chunk:\n",
    "    pretty_print_messages(chunk)"
   ]
  },
  {
   "cell_type": "code",
   "execution_count": 7,
   "id": "3b4eeea6",
   "metadata": {},
   "outputs": [],
   "source": [
    "def add(a: float, b: float):\n",
    "    \"\"\"Add two numbers.\"\"\"\n",
    "    return a + b\n",
    "\n",
    "\n",
    "def multiply(a: float, b: float):\n",
    "    \"\"\"Multiply two numbers.\"\"\"\n",
    "    return a * b\n",
    "\n",
    "\n",
    "def divide(a: float, b: float):\n",
    "    \"\"\"Divide two numbers.\"\"\"\n",
    "    return a / b\n",
    "\n",
    "llm_math = ChatOpenAI(model=\"gpt-4o-mini\")\n",
    "prompt_math = \"\"\"\n",
    "        \"You are a math agent.\\n\\n\"\n",
    "        \"INSTRUCTIONS:\\n\"\n",
    "        \"- Assist ONLY with math-related tasks\\n\"\n",
    "        \"- After you're done with your tasks, respond to the supervisor directly\\n\"\n",
    "        \"- Respond ONLY with the results of your work, do NOT include ANY other text.\"\n",
    "\"\"\"\n",
    "\n",
    "\n",
    "math_agent = create_react_agent(\n",
    "    model=llm_math,\n",
    "    tools=[add, multiply, divide],\n",
    "    prompt=prompt_math,\n",
    "    name=\"math_agent\"\n",
    ")\n"
   ]
  },
  {
   "cell_type": "code",
   "execution_count": 8,
   "id": "265b9315",
   "metadata": {},
   "outputs": [
    {
     "name": "stdout",
     "output_type": "stream",
     "text": [
      "Update from node agent:\n",
      "\n",
      "\n",
      "==================================\u001b[1m Ai Message \u001b[0m==================================\n",
      "Name: math_agent\n",
      "Tool Calls:\n",
      "  add (call_FFoHSOzyu0TcXxLYdOeMS4Wg)\n",
      " Call ID: call_FFoHSOzyu0TcXxLYdOeMS4Wg\n",
      "  Args:\n",
      "    a: 3\n",
      "    b: 5\n",
      "\n",
      "\n",
      "Update from node tools:\n",
      "\n",
      "\n",
      "=================================\u001b[1m Tool Message \u001b[0m=================================\n",
      "Name: add\n",
      "\n",
      "8.0\n",
      "\n",
      "\n",
      "Update from node agent:\n",
      "\n",
      "\n",
      "==================================\u001b[1m Ai Message \u001b[0m==================================\n",
      "Name: math_agent\n",
      "Tool Calls:\n",
      "  multiply (call_CWTpRiNeRyn23GjPvAal6Vlj)\n",
      " Call ID: call_CWTpRiNeRyn23GjPvAal6Vlj\n",
      "  Args:\n",
      "    a: 8\n",
      "    b: 7\n",
      "\n",
      "\n",
      "Update from node tools:\n",
      "\n",
      "\n",
      "=================================\u001b[1m Tool Message \u001b[0m=================================\n",
      "Name: multiply\n",
      "\n",
      "56.0\n",
      "\n",
      "\n",
      "Update from node agent:\n",
      "\n",
      "\n",
      "==================================\u001b[1m Ai Message \u001b[0m==================================\n",
      "Name: math_agent\n",
      "\n",
      "56.0\n",
      "\n",
      "\n"
     ]
    }
   ],
   "source": [
    "for chunk in math_agent.stream(\n",
    "    {\"messages\": [{\"role\": \"user\", \"content\": \"what's (3 + 5) x 7\"}]}\n",
    "):\n",
    "    pretty_print_messages(chunk)"
   ]
  },
  {
   "cell_type": "markdown",
   "id": "595079fa",
   "metadata": {},
   "source": [
    "## 2. langgraph-supervisor를 이용해서 supervisor 만들기"
   ]
  },
  {
   "cell_type": "code",
   "execution_count": 10,
   "id": "ed6dc8c5",
   "metadata": {},
   "outputs": [
    {
     "data": {
      "text/plain": [
       "'\\nsupervisor로 제어가 다시 돌아올 때(즉, handoff가 발생했음을 나타내기 위해),\\n메시지 히스토리에 (AIMessage, ToolMessage) 쌍을 추가할지 여부를 결정하는 옵션\\n'"
      ]
     },
     "execution_count": 10,
     "metadata": {},
     "output_type": "execute_result"
    }
   ],
   "source": [
    "from langgraph_supervisor import create_supervisor\n",
    "\n",
    "prompt_supervisor = \"\"\"\n",
    "        \"You are a supervisor managing two agents:\\n\"\n",
    "        \"- a research agent. Assign research-related tasks to this agent\\n\"\n",
    "        \"- a math agent. Assign math-related tasks to this agent\\n\"\n",
    "        \"Assign work to one agent at a time, do not call agents in parallel.\\n\"\n",
    "        \"Do not do any work yourself.\"\n",
    "\"\"\"\n",
    "\n",
    "llm_supervisor = ChatOpenAI(model=\"gpt-4.1\")\n",
    "\n",
    "supervisor = create_supervisor(\n",
    "    model=llm_supervisor,\n",
    "    agents=[research_agent, math_agent],\n",
    "    prompt=prompt_supervisor,\n",
    "    add_handoff_back_messages=True,\n",
    "    output_mode=\"full_history\"\n",
    ")\n",
    "\n",
    "\"\"\"\n",
    "supervisor로 제어가 다시 돌아올 때(즉, handoff가 발생했음을 나타내기 위해),\n",
    "메시지 히스토리에 (AIMessage, ToolMessage) 쌍을 추가할지 여부를 결정하는 옵션\n",
    "\"\"\""
   ]
  },
  {
   "cell_type": "markdown",
   "id": "ac0b9e21",
   "metadata": {},
   "source": [
    "## 3. 직접 Supervisor 만들기"
   ]
  },
  {
   "cell_type": "markdown",
   "id": "7fed9d75",
   "metadata": {},
   "source": [
    "Set up agent communication"
   ]
  },
  {
   "cell_type": "code",
   "execution_count": null,
   "id": "3301ba92",
   "metadata": {},
   "outputs": [],
   "source": [
    "from typing import Annotated\n",
    "from langchain_core.tools import tool, InjectedToolCallId"
   ]
  }
 ],
 "metadata": {
  "kernelspec": {
   "display_name": ".venv",
   "language": "python",
   "name": "python3"
  },
  "language_info": {
   "codemirror_mode": {
    "name": "ipython",
    "version": 3
   },
   "file_extension": ".py",
   "mimetype": "text/x-python",
   "name": "python",
   "nbconvert_exporter": "python",
   "pygments_lexer": "ipython3",
   "version": "3.13.2"
  }
 },
 "nbformat": 4,
 "nbformat_minor": 5
}
