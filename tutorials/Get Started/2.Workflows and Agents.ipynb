{
 "cells": [
  {
   "cell_type": "code",
   "execution_count": 22,
   "id": "cf16e3c6",
   "metadata": {},
   "outputs": [
    {
     "name": "stdout",
     "output_type": "stream",
     "text": [
      "200\n",
      "{'id': 'chatcmpl-BTTkR5HCAVcdYpq9D69iEBNAYfIDz', 'object': 'chat.completion', 'created': 1746365563, 'model': 'gpt-4o-2024-05-13', 'choices': [{'index': 0, 'message': {'role': 'assistant', 'content': '안녕하세요! 저는 AI 비서 GPT-4o입니다. 어떻게 도와드릴까요?', 'refusal': None}, 'logprobs': None, 'finish_reason': 'stop'}], 'usage': {'prompt_tokens': 29, 'completion_tokens': 21, 'total_tokens': 50, 'prompt_tokens_details': {'cached_tokens': 0, 'audio_tokens': 0}, 'completion_tokens_details': {'reasoning_tokens': 0, 'audio_tokens': 0, 'accepted_prediction_tokens': 0, 'rejected_prediction_tokens': 0}}, 'system_fingerprint': 'fp_ee1d74bde0'}\n"
     ]
    }
   ],
   "source": [
    "import requests\n",
    "\n",
    "url = \"https://alan-ptu.est.ai/openai/deployments/gpt-4o/chat/completions?api-version=2024-10-21\"\n",
    "headers = {\n",
    "    \"Content-Type\": \"application/json\",\n",
    "    \"api-key\": \"7ba4401f3ffa4e5d8d8e59e28c39d624\"\n",
    "}\n",
    "data = {\n",
    "    \"messages\": [\n",
    "        {\"role\": \"user\", \"content\": \"안녕, GPT-4o!\"},\n",
    "        {\"role\": \"system\", \"content\": \"너는 유용한 AI 비서야.\"}\n",
    "    ],\n",
    "    \"temperature\": 0.7,\n",
    "    \"max_tokens\": 100\n",
    "}\n",
    "\n",
    "response = requests.post(url, headers=headers, json=data)\n",
    "print(response.status_code)\n",
    "print(response.json())\n"
   ]
  },
  {
   "cell_type": "code",
   "execution_count": 1,
   "id": "initial_id",
   "metadata": {
    "ExecuteTime": {
     "end_time": "2025-05-04T10:28:01.607672Z",
     "start_time": "2025-05-04T10:27:58.394563Z"
    },
    "collapsed": true
   },
   "outputs": [
    {
     "name": "stdout",
     "output_type": "stream",
     "text": [
      "content='안녕하세요! 무엇을 도와드릴까요?' additional_kwargs={'refusal': None} response_metadata={'token_usage': {'completion_tokens': 12, 'prompt_tokens': 9, 'total_tokens': 21, 'completion_tokens_details': {'accepted_prediction_tokens': 0, 'audio_tokens': 0, 'reasoning_tokens': 0, 'rejected_prediction_tokens': 0}, 'prompt_tokens_details': {'audio_tokens': 0, 'cached_tokens': 0}}, 'model_name': 'gpt-4o-2024-05-13', 'system_fingerprint': 'fp_ee1d74bde0', 'id': 'chatcmpl-BTTc6qmbQdEaMJzWiqWTxb6Tq3WWm', 'finish_reason': 'stop', 'logprobs': None, 'content_filter_results': {}} id='run-5c664614-5433-4c41-b0ff-0d4f92c32c43-0' usage_metadata={'input_tokens': 9, 'output_tokens': 12, 'total_tokens': 21, 'input_token_details': {'audio': 0, 'cache_read': 0}, 'output_token_details': {'audio': 0, 'reasoning': 0}}\n"
     ]
    }
   ],
   "source": [
    "from langchain_openai import AzureChatOpenAI\n",
    "import os\n",
    "from dotenv import load_dotenv\n",
    "\n",
    "load_dotenv()\n",
    "\n",
    "llm = AzureChatOpenAI(\n",
    "    api_version=os.getenv(\"AZURE_OPENAI_API_VERSION\"),\n",
    "    model=\"gpt-4o\"\n",
    ")\n",
    "result = llm.invoke(\"안녕\")\n",
    "\n",
    "print(result)"
   ]
  },
  {
   "cell_type": "code",
   "execution_count": 2,
   "id": "30cb044dfa1fbecf",
   "metadata": {
    "ExecuteTime": {
     "end_time": "2025-05-04T10:28:18.741191Z",
     "start_time": "2025-05-04T10:28:18.736325Z"
    }
   },
   "outputs": [
    {
     "data": {
      "text/plain": [
       "AzureChatOpenAI(client=<openai.resources.chat.completions.completions.Completions object at 0x00000275AD9CF770>, async_client=<openai.resources.chat.completions.completions.AsyncCompletions object at 0x00000275AD9E8050>, root_client=<openai.lib.azure.AzureOpenAI object at 0x00000275AD8852B0>, root_async_client=<openai.lib.azure.AsyncAzureOpenAI object at 0x00000275AD9CF8C0>, model_name='gpt-4o', model_kwargs={}, openai_api_key=SecretStr('**********'), azure_endpoint='https://alan-ptu.est.ai/', openai_api_version='2024-10-21', openai_api_type='azure')"
      ]
     },
     "execution_count": 2,
     "metadata": {},
     "output_type": "execute_result"
    }
   ],
   "source": [
    "llm"
   ]
  },
  {
   "cell_type": "code",
   "execution_count": 3,
   "id": "814870a680e1dd6d",
   "metadata": {
    "ExecuteTime": {
     "end_time": "2025-05-04T10:32:30.496890Z",
     "start_time": "2025-05-04T10:32:29.634961Z"
    }
   },
   "outputs": [
    {
     "data": {
      "text/plain": [
       "[{'name': 'multiply',\n",
       "  'args': {'a': 2, 'b': 3},\n",
       "  'id': 'call_YCj5rvGxjw5IU1Z1tajBuXR2',\n",
       "  'type': 'tool_call'}]"
      ]
     },
     "execution_count": 3,
     "metadata": {},
     "output_type": "execute_result"
    }
   ],
   "source": [
    "# 구조화된 출력을 위한 스키마\n",
    "from pydantic import BaseModel, Field\n",
    "\n",
    "class SearchQuery(BaseModel):\n",
    "    search_query: str = Field(None, description=\"웹 검색에 최적화된 쿼리입니다.\")\n",
    "    justification: str = Field(\n",
    "        None, description=\"이 쿼리가 사용자 요청과 어떤 관련이 있는지를 설명합니다.\"\n",
    "    )\n",
    "# 구조화된 출력을 위한 스키마로 LLM을 확장\n",
    "structured_llm = llm.with_structured_output(SearchQuery, method=\"function_calling\")\n",
    "\n",
    "# 확장된 LLM을 호출\n",
    "output = structured_llm.invoke(\"How does Calcium CT score relate to high cholesterol?\")\n",
    "\n",
    "# 도구 정의\n",
    "def multiply(a: int, b: int) -> int:\n",
    "    return a * b\n",
    "\n",
    "# 도구로 LLM을 확장\n",
    "llm_with_tools = llm.bind_tools([multiply])\n",
    "\n",
    "# 도구 호출을 유도하는 입력으로 LLM 호출\n",
    "msg = llm_with_tools.invoke(\"What is 2 times 3?\")\n",
    "\n",
    "# 도구 호출 결과 확인\n",
    "msg.tool_calls"
   ]
  },
  {
   "cell_type": "code",
   "execution_count": 4,
   "id": "b0ce9e9cd04cdf8c",
   "metadata": {},
   "outputs": [
    {
     "data": {
      "image/png": "[encoded data removed]",
      "text/plain": [
       "<IPython.core.display.Image object>"
      ]
     },
     "metadata": {},
     "output_type": "display_data"
    },
    {
     "name": "stdout",
     "output_type": "stream",
     "text": [
      "Initial joke:\n",
      "Why was the cat sitting on the computer?\n",
      "\n",
      "Because it wanted to keep an eye on the mouse!\n",
      "\n",
      "--- --- ---\n",
      "\n",
      "Improved joke:\n",
      "Sure, here you go: \n",
      "\n",
      "Why was the cat sitting on the computer?\n",
      "\n",
      "Because it wanted to keep an eye on the mouse and make sure it didn’t byte!\n",
      "\n",
      "--- --- ---\n",
      "\n",
      "Final joke:\n",
      "Sure, here you go:\n",
      "\n",
      "Why was the cat sitting on the computer?\n",
      "\n",
      "Because it wanted to keep an eye on the mouse and make sure it didn’t byte! Little did it know, the mouse was actually an undercover agent from the Dog Intelligence Agency!\n"
     ]
    }
   ],
   "source": [
    "from typing_extensions import TypedDict\n",
    "from langgraph.graph import StateGraph, START, END\n",
    "from IPython.display import Image, display\n",
    "\n",
    "# 그래프 상태 정의\n",
    "class State(TypedDict):\n",
    "    topic: str\n",
    "    joke: str\n",
    "    improved_joke: str\n",
    "    final_joke: str\n",
    "\n",
    "# 노드 정의\n",
    "def generate_joke(state: State):\n",
    "    \"\"\"첫 번째 LLM 호출 - 초기 농담 생성\"\"\"\n",
    "    msg = llm.invoke(f\"Write a short joke about {state['topic']}\")\n",
    "    return {\"joke\": msg.content}\n",
    "\n",
    "def check_punchline(state: State):\n",
    "    \"\"\"Gate 함수 - 농담에 punchline이 있는지 검사\"\"\"\n",
    "    # 간단한 검사 - \"?\" 또는 \"!\" 포함 여부 확인\n",
    "    if \"?\" in state[\"joke\"] or \"!\" in state[\"joke\"]:\n",
    "        return \"Fail\"\n",
    "    return \"Pass\"\n",
    "\n",
    "def improve_joke(state: State):\n",
    "    \"\"\"두 번째 LLM 호출 - 농담 개선\"\"\"\n",
    "    msg = llm.invoke(f\"Make this joke funnier by adding wordplay: {state['joke']}\")\n",
    "    return {\"improved_joke\": msg.content}\n",
    "\n",
    "def polish_joke(state: State):\n",
    "    \"\"\"세 번째 LLM 호출 - 농담 다듬기\"\"\"\n",
    "    msg = llm.invoke(f\"Add a surprising twist to this joke: {state['improved_joke']}\")\n",
    "    return {\"final_joke\": msg.content}\n",
    "\n",
    "# 워크플로 구축\n",
    "workflow = StateGraph(State)\n",
    "\n",
    "# 노드 추가\n",
    "workflow.add_node(\"generate_joke\", generate_joke)\n",
    "workflow.add_node(\"improve_joke\", improve_joke)\n",
    "workflow.add_node(\"polish_joke\", polish_joke)\n",
    "\n",
    "# 노드 연결\n",
    "workflow.add_edge(START, \"generate_joke\")\n",
    "workflow.add_conditional_edges(\n",
    "    \"generate_joke\", check_punchline, {\"Fail\": \"improve_joke\", \"Pass\": END}\n",
    ")\n",
    "workflow.add_edge(\"improve_joke\", \"polish_joke\")\n",
    "workflow.add_edge(\"polish_joke\", END)\n",
    "\n",
    "# 컴파일\n",
    "chain = workflow.compile()\n",
    "\n",
    "# 워크플로 시각화\n",
    "display(Image(chain.get_graph().draw_mermaid_png()))\n",
    "\n",
    "# 실행\n",
    "state = chain.invoke({\"topic\": \"cats\"})\n",
    "print(\"Initial joke:\")\n",
    "print(state[\"joke\"])\n",
    "print(\"\\n--- --- ---\\n\")\n",
    "if \"improved_joke\" in state:\n",
    "    print(\"Improved joke:\")\n",
    "    print(state[\"improved_joke\"])\n",
    "    print(\"\\n--- --- ---\\n\")\n",
    "\n",
    "    print(\"Final joke:\")\n",
    "    print(state[\"final_joke\"])\n",
    "else:\n",
    "    print(\"Joke failed quality gate - no punchline detected!\")"
   ]
  },
  {
   "cell_type": "code",
   "execution_count": 5,
   "id": "d4d202bb",
   "metadata": {},
   "outputs": [
    {
     "data": {
      "text/plain": [
       "{'topic': 'cats',\n",
       " 'joke': 'Why was the cat sitting on the computer?\\n\\nBecause it wanted to keep an eye on the mouse!',\n",
       " 'improved_joke': 'Sure, here you go: \\n\\nWhy was the cat sitting on the computer?\\n\\nBecause it wanted to keep an eye on the mouse and make sure it didn’t byte!',\n",
       " 'final_joke': 'Sure, here you go:\\n\\nWhy was the cat sitting on the computer?\\n\\nBecause it wanted to keep an eye on the mouse and make sure it didn’t byte! Little did it know, the mouse was actually an undercover agent from the Dog Intelligence Agency!'}"
      ]
     },
     "execution_count": 5,
     "metadata": {},
     "output_type": "execute_result"
    }
   ],
   "source": [
    "state"
   ]
  },
  {
   "cell_type": "code",
   "execution_count": 6,
   "id": "7333238a",
   "metadata": {},
   "outputs": [
    {
     "data": {
      "image/png": "[encoded data removed]",
      "text/plain": [
       "<IPython.core.display.Image object>"
      ]
     },
     "metadata": {},
     "output_type": "display_data"
    },
    {
     "name": "stdout",
     "output_type": "stream",
     "text": [
      "Here's a story, joke, and poem about cats!\n",
      "\n",
      "STORY:\n",
      "Once upon a time, in the heart of a bustling city, there was a quaint little bookstore called \"Whiskers & Tales.\" This wasn't like any ordinary bookstore. It was a magical place, tucked away in a narrow alley, where the scent of aged paper mingled with that of freshly brewed coffee. But the real magic lay in its residents—four cats who were as much a part of the shop as the books themselves.\n",
      "\n",
      "The eldest cat, Horatio, was a dignified black and white tuxedo cat with piercing green eyes. He had lived in the bookstore for as long as anyone could remember. Horatio had an uncanny ability to sense exactly what book a customer needed, even before they knew it themselves. His favorite spot was an old leather armchair by the fireplace, where he would curl up and occasionally raise his head to study the patrons with an air of wisdom.\n",
      "\n",
      "Next was Luna, a sleek, silver tabby with a playful spirit. Luna adored the children's section and could often be found lounging on brightly colored cushions or chasing a stray ribbon through the aisles. She had a special bond with the young readers and loved to listen to storytimes, her large amber eyes shining with fascination.\n",
      "\n",
      "Then there was Balthazar, a large Maine Coon with a mane like a lion and a heart as gentle as a lamb. Balthazar had an instinct for comfort and would always find his way to anyone who seemed lonely or sad. He would hop up beside them, purring deeply, offering solace and companionship. Many a tear had been dried with his soft fur as company.\n",
      "\n",
      "Finally, there was Minerva, a delicate calico with a mischievous streak. Minerva was the adventurer of the group, always getting into places she shouldn't. She loved exploring the high shelves and occasionally knocking over a book or two. But her antics were always forgiven, for she had a way of brightening the day with her spirited energy.\n",
      "\n",
      "One crisp autumn day, a young girl named Emma wandered into Whiskers & Tales. She was new to the city and felt out of place, missing her friends and the familiar comforts of her old home. As she meandered through the aisles, she found herself in the cozy corner with the fireplace. Horatio, sensing her unease, lifted his head and studied her. With deliberate grace, he jumped from his chair and rubbed against Emma's legs, guiding her to a shelf filled with fantasy novels.\n",
      "\n",
      "Emma picked up a book adorned with a beautiful cover of a unicorn in a forest. She sank into the armchair, Horatio at her feet, and began to read. As she became engrossed in the story, Luna padded over, leaping lightly onto the arm of the chair. Balthazar and Minerva soon followed, finding their spots close by.\n",
      "\n",
      "Surrounded by her newfound furry friends, Emma's loneliness began to fade. She returned to Whiskers & Tales day after day, exploring different genres and discovering new worlds within the pages of the books. The cats, with their unique personalities, became her companions and guides, each contributing to her sense of belonging and joy.\n",
      "\n",
      "In time, Emma came to know the bookstore and its magic well. She even brought her friends, both old and new, to share in the wonder of Whiskers & Tales. The little shop with its enchanting feline staff became a sanctuary, a place where books and cats taught her that even in a big, busy city, one could always find a sense of home and friendship.\n",
      "\n",
      "And so, the story of Whiskers & Tales and its marvelous cats continued, weaving threads of magic, comfort, and joy into the lives of all who entered its doors.\n",
      "\n",
      "JOKE:\n",
      "Why was the cat sitting on the computer?\n",
      "\n",
      "Because it wanted to keep an eye on the mouse!\n",
      "\n",
      "POEM:\n",
      "In the quiet hush of twilight's grace,\n",
      "Softly pads a cat, with mystic pace.\n",
      "Eyes like moons, in the shadowed night,\n",
      "Whiskered wisdom, fur of pure delight.\n",
      "\n",
      "Graceful dancer in a world unseen,\n",
      "Slipping through the dusk, sleek and serene.\n",
      "Whispered secrets in your silent purr,\n",
      "You are moonlight's echo, a soft, velvet blur.\n",
      "\n",
      "Oft you linger on the windowsill,\n",
      "Watching worlds go by, serene and still.\n",
      "Curled in sunbeams, you greet the day,\n",
      "In dreams of wild fields, where you freely play.\n",
      "\n",
      "Companion of solitude, keeper of the hearth,\n",
      "A guardian of ancient, poetic art.\n",
      "In your gaze, the stars seem to unfold,\n",
      "Tales of lands where dreams are strolled.\n",
      "\n",
      "Aloof yet loving, independent, free,\n",
      "Mystery found in your soft melody.\n",
      "From whisker to tail, an elegant arc,\n",
      "You are night's embrace, morning's spark.\n",
      "\n",
      "So here’s to the cat, in all forms and guise,\n",
      "With your gentle spirit and emerald eyes.\n",
      "Stay wild and wise, oh feline dear,\n",
      "For in each heartbeat, magic’s near.\n"
     ]
    }
   ],
   "source": [
    "# 그래프 상태 정의\n",
    "class State(TypedDict):\n",
    "    topic: str\n",
    "    joke: str\n",
    "    story: str\n",
    "    poem: str\n",
    "    combined_output: str\n",
    "\n",
    "# 노드 정의\n",
    "def call_llm_1(state: State):\n",
    "    \"\"\"첫 번째 LLM 호출: 농담 생성\"\"\"\n",
    "\n",
    "    msg = llm.invoke(f\"Write a joke about {state['topic']}\")\n",
    "    return {\"joke\": msg.content}\n",
    "\n",
    "def call_llm_2(state: State):\n",
    "    \"\"\"두 번째 LLM 호출: 이야기 생성\"\"\"\n",
    "\n",
    "    msg = llm.invoke(f\"Write a story about {state['topic']}\")\n",
    "    return {\"story\": msg.content}\n",
    "\n",
    "def call_llm_3(state: State):\n",
    "    \"\"\"세 번째 LLM 호출: 시 생성\"\"\"\n",
    "\n",
    "    msg = llm.invoke(f\"Write a poem about {state['topic']}\")\n",
    "    return {\"poem\": msg.content}\n",
    "\n",
    "def aggregator(state: State):\n",
    "    \"\"\"joke, story, poem을 하나의 출력으로 결합\"\"\"\n",
    "\n",
    "    combined = f\"Here's a story, joke, and poem about {state['topic']}!\\n\\n\"\n",
    "    combined += f\"STORY:\\n{state['story']}\\n\\n\"\n",
    "    combined += f\"JOKE:\\n{state['joke']}\\n\\n\"\n",
    "    combined += f\"POEM:\\n{state['poem']}\"\n",
    "    return {\"combined_output\": combined}\n",
    "\n",
    "# workflow 구성\n",
    "parallel_builder = StateGraph(State)\n",
    "\n",
    "# 노드 추가\n",
    "parallel_builder.add_node(\"call_llm_1\", call_llm_1)\n",
    "parallel_builder.add_node(\"call_llm_2\", call_llm_2)\n",
    "parallel_builder.add_node(\"call_llm_3\", call_llm_3)\n",
    "parallel_builder.add_node(\"aggregator\", aggregator)\n",
    "\n",
    "# 노드 간 연결 정의\n",
    "parallel_builder.add_edge(START, \"call_llm_1\")\n",
    "parallel_builder.add_edge(START, \"call_llm_2\")\n",
    "parallel_builder.add_edge(START, \"call_llm_3\")\n",
    "parallel_builder.add_edge(\"call_llm_1\", \"aggregator\")\n",
    "parallel_builder.add_edge(\"call_llm_2\", \"aggregator\")\n",
    "parallel_builder.add_edge(\"call_llm_3\", \"aggregator\")\n",
    "parallel_builder.add_edge(\"aggregator\", END)\n",
    "parallel_workflow = parallel_builder.compile()\n",
    "\n",
    "# 워크플로 시각화\n",
    "display(Image(parallel_workflow.get_graph().draw_mermaid_png()))\n",
    "\n",
    "# 실행\n",
    "state = parallel_workflow.invoke({\"topic\": \"cats\"})\n",
    "print(state[\"combined_output\"])"
   ]
  },
  {
   "cell_type": "code",
   "execution_count": 7,
   "id": "20041223",
   "metadata": {},
   "outputs": [
    {
     "name": "stdout",
     "output_type": "stream",
     "text": [
      "Sure, here's a cat joke for you:\n",
      "\n",
      "Why was the cat sitting on the computer?\n",
      "\n",
      "Because it wanted to keep an eye on the mouse!\n"
     ]
    }
   ],
   "source": [
    "from typing_extensions import Literal\n",
    "from langchain_core.messages import HumanMessage, SystemMessage\n",
    "from pydantic import BaseModel, Field\n",
    "from typing import TypedDict\n",
    "from langgraph.graph import StateGraph, START, END\n",
    "from PIL.Image import Image\n",
    "\n",
    "# 구조화된 출력으로 routing 논리를 구현할 schema\n",
    "class Route(BaseModel):\n",
    "    step: Literal[\"poem\", \"story\", \"joke\"] = Field(\n",
    "        None, description=\"Routing 프로세스의 다음 단계\"\n",
    "    )\n",
    "\n",
    "# LLM에 schema를 적용하여 구조화된 출력 사용\n",
    "router = llm.with_structured_output(Route, method=\"function_calling\")\n",
    "\n",
    "# 상태 정의\n",
    "class State(TypedDict):\n",
    "    input: str\n",
    "    decision: str\n",
    "    output: str\n",
    "\n",
    "# 노드 정의\n",
    "def llm_call_1(state: State):\n",
    "    \"\"\"이야기를 작성하는 노드\"\"\"\n",
    "\n",
    "    result = llm.invoke(state[\"input\"])\n",
    "    return {\"output\": result.content}\n",
    "\n",
    "\n",
    "def llm_call_2(state: State):\n",
    "    \"\"\"농담을 작성하는 노드\"\"\"\n",
    "\n",
    "    result = llm.invoke(state[\"input\"])\n",
    "    return {\"output\": result.content}\n",
    "\n",
    "\n",
    "def llm_call_3(state: State):\n",
    "    \"\"\"시를 작성하는 노드\"\"\"\n",
    "\n",
    "    result = llm.invoke(state[\"input\"])\n",
    "    return {\"output\": result.content}\n",
    "\n",
    "\n",
    "def llm_call_router(state: State):\n",
    "    \"\"\"입력을 적절한 노드로 라우팅\"\"\"\n",
    "\n",
    "    # 구조화된 출력으로 라우팅 논리를 수행\n",
    "    decision = router.invoke(\n",
    "        [\n",
    "            SystemMessage(\n",
    "                content=\"사용자의 요청에 따라 입력을 story, joke, 또는 poem으로 라우팅하세요.\"\n",
    "            ),\n",
    "            HumanMessage(content=state[\"input\"]),\n",
    "        ]\n",
    "    )\n",
    "\n",
    "    return {\"decision\": decision.step}\n",
    "\n",
    "# 조건에 따라 다음 노드를 결정하는 edge 함수\n",
    "def route_decision(state: State):\n",
    "    # 다음 방문할 노드 이름을 반환\n",
    "    if state[\"decision\"] == \"story\":\n",
    "        return \"llm_call_1\"\n",
    "    elif state[\"decision\"] == \"joke\":\n",
    "        return \"llm_call_2\"\n",
    "    elif state[\"decision\"] == \"poem\":\n",
    "        return \"llm_call_3\"\n",
    "\n",
    "# 워크플로우 구성\n",
    "router_builder = StateGraph(State)\n",
    "\n",
    "# 노드 추가\n",
    "router_builder.add_node(\"llm_call_1\", llm_call_1)\n",
    "router_builder.add_node(\"llm_call_2\", llm_call_2)\n",
    "router_builder.add_node(\"llm_call_3\", llm_call_3)\n",
    "router_builder.add_node(\"llm_call_router\", llm_call_router)\n",
    "\n",
    "# 노드 연결\n",
    "router_builder.add_edge(START, \"llm_call_router\")\n",
    "router_builder.add_conditional_edges(\n",
    "    \"llm_call_router\",\n",
    "    route_decision,\n",
    "    {\n",
    "        \"llm_call_1\": \"llm_call_1\",\n",
    "        \"llm_call_2\": \"llm_call_2\",\n",
    "        \"llm_call_3\": \"llm_call_3\",\n",
    "    },\n",
    ")\n",
    "router_builder.add_edge(\"llm_call_1\", END)\n",
    "router_builder.add_edge(\"llm_call_2\", END)\n",
    "router_builder.add_edge(\"llm_call_3\", END)\n",
    "\n",
    "# 워크플로우 컴파일\n",
    "router_workflow = router_builder.compile()\n",
    "\n",
    "# 실행 예시\n",
    "state = router_workflow.invoke({\"input\": \"Write me a joke about cats\"})\n",
    "print(state[\"output\"])\n"
   ]
  },
  {
   "cell_type": "markdown",
   "id": "2eb52746",
   "metadata": {},
   "source": []
  },
  {
   "cell_type": "markdown",
   "id": "bfd46ad8",
   "metadata": {},
   "source": [
    "### LangGraph에서 Worker 생성"
   ]
  },
  {
   "metadata": {},
   "cell_type": "code",
   "outputs": [
    {
     "data": {
      "image/png": "[encoded data removed]",
      "text/plain": [
       "<langgraph.graph.state.CompiledStateGraph object at 0x00000275ADCA7D90>"
      ]
     },
     "execution_count": 8,
     "metadata": {},
     "output_type": "execute_result"
    }
   ],
   "execution_count": 8,
   "source": "router_workflow",
   "id": "f1b549bf"
  },
  {
   "metadata": {},
   "cell_type": "markdown",
   "source": "# Orchestrator-Worker",
   "id": "1b94f5f0"
  },
  {
   "metadata": {},
   "cell_type": "code",
   "outputs": [],
   "execution_count": 9,
   "source": [
    "from typing import Annotated, List\n",
    "import operator\n",
    "\n",
    "# 계획 수립에 사용할 구조화된 출력용 schema\n",
    "class Section(BaseModel):\n",
    "    name: str = Field(\n",
    "        description=\"Name for this section of the report.\",\n",
    "    )\n",
    "    description: str = Field(\n",
    "        description=\"Brief overview of the main topics and concepts to be covered in this section.\",\n",
    "    )\n",
    "\n",
    "class Sections(BaseModel):\n",
    "    sections: List[Section] = Field(\n",
    "        description=\"Sections of the report.\",\n",
    "    )\n",
    "\n",
    "# LLM을 구조화된 출력 스키마로 확장\n",
    "planner = llm.with_structured_output(Sections, method=\"function_calling\")\n"
   ],
   "id": "79094b5e"
  },
  {
   "cell_type": "code",
   "execution_count": 10,
   "id": "6cac4ce9",
   "metadata": {},
   "outputs": [],
   "source": [
    "from langgraph.constants import Send\n",
    "\n",
    "# 그래프 상태 정의\n",
    "class State(TypedDict):\n",
    "    topic: str  # 리포트 주제\n",
    "    sections: list[Section]  # 리포트 섹션 목록\n",
    "    completed_sections: Annotated[\n",
    "        list, operator.add\n",
    "    ]  # 모든 worker들이 이 key에 병렬로 작성\n",
    "    final_report: str  # 최종 리포트\n",
    "\n",
    "# Worker 상태 정의\n",
    "class WorkerState(TypedDict):\n",
    "    section: Section\n",
    "    completed_sections: Annotated[list, operator.add]\n",
    "\n",
    "# 노드 정의\n",
    "def orchestrator(state: State):\n",
    "    \"\"\"리포트 작성을 위한 계획을 수립하는 orchestrator\"\"\"\n",
    "\n",
    "    # 쿼리 생성\n",
    "    report_sections = planner.invoke(\n",
    "        [\n",
    "            SystemMessage(content=\"Generate a plan for the report.\"),\n",
    "            HumanMessage(content=f\"Here is the report topic: {state['topic']}\"),\n",
    "        ]\n",
    "    )\n",
    "\n",
    "    return {\"sections\": report_sections.sections}\n",
    "\n",
    "def llm_call(state: WorkerState):\n",
    "    \"\"\"Worker가 섹션을 작성\"\"\"\n",
    "\n",
    "    # 섹션 생성\n",
    "    section = llm.invoke(\n",
    "        [\n",
    "            SystemMessage(\n",
    "                content=\"Write a report section following the provided name and description. Include no preamble for each section. Use markdown formatting.\"\n",
    "            ),\n",
    "            HumanMessage(\n",
    "                content=f\"Here is the section name: {state['section'].name} and description: {state['section'].description}\"\n",
    "            ),\n",
    "        ]\n",
    "    )\n",
    "\n",
    "    # 작성된 섹션을 completed_sections에 저장\n",
    "    return {\"completed_sections\": [section.content]}\n",
    "\n",
    "def synthesizer(state: State):\n",
    "    \"\"\"모든 섹션을 종합하여 최종 리포트 생성\"\"\"\n",
    "\n",
    "    # 작성 완료된 섹션 리스트\n",
    "    completed_sections = state[\"completed_sections\"]\n",
    "\n",
    "    # 각 섹션을 문자열로 연결하여 최종 리포트 구성\n",
    "    completed_report_sections = \"\\n\\n---\\n\\n\".join(completed_sections)\n",
    "\n",
    "    return {\"final_report\": completed_report_sections}"
   ]
  },
  {
   "cell_type": "markdown",
   "id": "2ee3d55e",
   "metadata": {},
   "source": [
    "### 조건 분기: worker들에게 섹션 분배"
   ]
  },
  {
   "cell_type": "code",
   "execution_count": 11,
   "id": "b130e9ef",
   "metadata": {},
   "outputs": [],
   "source": [
    "# 각 섹션별로 worker를 할당하는 조건 분기 함수\n",
    "def assign_workers(state: State):\n",
    "    \"\"\"계획된 각 섹션에 worker 할당\"\"\"\n",
    "\n",
    "    # Send API를 사용하여 섹션 작성 병렬 실행\n",
    "    return [Send(\"llm_call\", {\"section\": s}) for s in state[\"sections\"]]\n"
   ]
  },
  {
   "cell_type": "markdown",
   "id": "e1204b40",
   "metadata": {},
   "source": [
    "### 전체 워크플로우 구축"
   ]
  },
  {
   "cell_type": "code",
   "execution_count": 12,
   "id": "ecec761c",
   "metadata": {},
   "outputs": [
    {
     "data": {
      "text/markdown": [
       "## Introduction and Description\n",
       "\n",
       "In recent years, the development of large language models (LLMs) has drastically transformed the landscape of artificial intelligence (AI). A pivotal aspect underpinning this progress is the concept of scaling laws. Scaling laws refer to the predictable patterns and relationships that emerge as the size of a model's parameters, the amount of training data, or computational resources increase. Understanding these laws is critical for both researchers and practitioners, as they provide a foundational framework for designing and optimizing LLMs.\n",
       "\n",
       "Scaling laws are integral to advancing AI research and applications for several reasons:\n",
       "\n",
       "1. **Predictive Power**: Scaling laws facilitate the anticipation of how performance will improve with additional resources. By understanding these relationships, researchers can make informed decisions about the allocation of computational power, data collection efforts, and model architecture adjustments, leading to more efficient and effective models.\n",
       "\n",
       "2. **Economic Efficiency**: AI development is resource-intensive. Scaling laws help identify the most cost-effective pathways to enhance model performance, ensuring that investments in hardware and data are proportionate to the expected gains.\n",
       "\n",
       "3. **Guidance on Limits**: As models scale, they encounter different performance and capability limits. Scaling laws provide a theoretical underpinning to understand these boundaries, guiding researchers on when to pursue scaling versus when to innovate at the architectural level or through different training techniques.\n",
       "\n",
       "4. **Benchmarking Progress**: The ability to measure AI advancements against scaling laws offers a systematic way to benchmark new models. This standardization allows the AI community to evaluate and compare progress in a structured manner, fostering collaborative and competitive advancements.\n",
       "\n",
       "5. **Error Analysis and Debugging**: Understanding scaling laws can also aid in diagnosing errors and bottlenecks in model performance. Discrepancies from expected scaling behavior might reveal underlying issues in data quality, training procedures, or model design.\n",
       "\n",
       "In summary, scaling laws are not just theoretical constructs but practical tools that drive the empirical advancements of LLMs. They enable a deeper understanding of the trade-offs, potentials, and limitations inherent in scaling AI systems, making them indispensable for the continued progression of AI technology and its applications.\n",
       "\n",
       "---\n",
       "\n",
       "## Theoretical Foundations\n",
       "\n",
       "Scaling laws in machine learning provide a framework for understanding the relationships between various aspects of models, datasets, and computational resources, and how these relationships affect the performance and capabilities of large language models (LLMs).\n",
       "\n",
       "### Model Size\n",
       "\n",
       "One of the central concepts in scaling laws is model size, typically measured by the number of parameters in a model. Larger models have more parameters, which theoretically gives them the potential to learn more complex patterns and representations from data. Empirical studies have shown that, up to a point, increasing the number of parameters in LLMs generally improves their performance on a wide range of tasks, such as text generation, translation, and comprehension. This improvement follows a power-law relationship, where performance gains become progressively smaller as models grow larger, eventually reaching diminishing returns.\n",
       "\n",
       "### Dataset Size\n",
       "\n",
       "Dataset size is another crucial factor in scaling laws. The performance of LLMs tends to improve with the amount of training data available. Larger datasets help models learn more comprehensive and nuanced representations of language, making them more effective at capturing rare patterns and handling edge cases. However, similar to model size, the benefits of increasing dataset size also follow a power-law trend. After a certain point, the improvement per additional data point decreases, indicating that very large datasets are required to achieve marginal gains in performance in mature models.\n",
       "\n",
       "### Computational Resources\n",
       "\n",
       "The role of computational resources is intertwined with both model and dataset size. Training large models on extensive datasets requires significant computational power, often involving powerful GPUs or specialized hardware such as TPUs. Computational resources are not only essential for the initial training phase but also for fine-tuning and inference stages. They determine the feasibility and efficiency of developing and deploying LLMs. There's an exponential relationship between the size of the model and the resources required, meaning that as models and datasets grow, the computational costs increase significantly.\n",
       "\n",
       "### Interaction Between Factors\n",
       "\n",
       "The interaction between model size, dataset size, and computational resources creates a complex landscape where trade-offs must be carefully managed. Scaling laws suggest that there is an optimal balance that maximizes performance without incurring prohibitive resource costs. Researchers must consider this balance, often iteratively adjusting each factor to achieve the best possible outcomes. Moreover, advancements in algorithms, optimization techniques, and hardware can shift these relationships, enabling more efficient scaling of LLMs.\n",
       "\n",
       "### Conclusion\n",
       "\n",
       "Understanding the theoretical foundations of scaling laws is essential for guiding the development of LLMs. Model size, dataset size, and computational resources each play a pivotal role in shaping the capabilities of these models. By leveraging the insights provided by scaling laws, researchers can more effectively design and train LLMs to achieve state-of-the-art performance across various tasks.\n",
       "\n",
       "---\n",
       "\n",
       "## Empirical Evidence\n",
       "\n",
       "### Studies and Experiments\n",
       "\n",
       "**Kaplan et al. (2020)**: One of the cornerstone studies that provided robust evidence for scaling laws in large language models (LLMs) was conducted by Kaplan et al. This study meticulously analyzed the performance of transformer models as a function of model size, training data volume, and computational resources. The research demonstrated that as the number of parameters increases, model performance improves predictably, following a power-law relationship. Their experiments on models ranging from millions to billions of parameters showed significant gains in tasks such as language modeling and reading comprehension.\n",
       "\n",
       "**Brown et al. (2020)**: The creators of the GPT-3 model showcased empirical evidence through extensive experimentation. GPT-3, boasting 175 billion parameters, drastically outperformed its predecessors on a multitude of NLP benchmarks like the superglue benchmark, zero-shot, and few-shot learning tasks. Brown et al. provided clear quantifiable improvements tying the model's scale directly to performance enhancements, empirically validating the scaling laws suggested by previous studies.\n",
       "\n",
       "**Henighan et al. (2020)**: This study further built on existing theories by exploring the effects of both model scaling and dataset scaling. Their research with models scaling up to 10 billion parameters and datasets extending to 800GB showed that larger models continued to benefit from increased data, emphasizing a dual aspect of scaling laws – model size and data size. The evidence from their experiments underscored that optimal performance is achieved through balanced scaling of both elements.\n",
       "\n",
       "### Real-World Examples\n",
       "\n",
       "**OpenAI Codex**: With the commercial application of OpenAI's Codex, which powers GitHub Copilot, empirical evidence for scaling is observed in its practical utility. Codex is an advanced version of GPT-3 fine-tuned specifically for programming tasks. The model's performance in understanding and generating code in various languages illustrates the real-world efficacy of scaling laws. Its ability to handle intricate coding tasks reflects directly on the sophistication gained through model scaling.\n",
       "\n",
       "**DeepMind’s Gopher Model**: In another notable example, DeepMind’s Gopher model, equipped with 280 billion parameters, showed marked improvements over smaller models in a variety of reading comprehension tasks and other language understanding benchmarks. Their empirical data indicated that for many tasks, Gopher significantly outperformed existing models, providing additional real-world evidence to the benefits of scaling.\n",
       "\n",
       "**Anthropic’s Explorations**: Anthropic AI conducted extensive studies on scaling laws and robustly corroborated previous findings. Their work involved training models up to 100 billion parameters and analyzing performance jumps in terms of language understanding and generation capabilities. The documented incremental performance improvements provide convincing empirical support to the theoretical scaling laws.\n",
       "\n",
       "### Summary\n",
       "\n",
       "The presented empirical evidence strongly supports the validity of scaling laws in LLMs. Through various studies, including those by Kaplan et al., Brown et al., and Henighan et al., there’s a clear, demonstrable improvement in model performance with increased parameters and data. Real-world implementations, like OpenAI's Codex and DeepMind’s Gopher, further reinforce these findings, showing practical benefits of such scaling in diverse applications and industries.\n",
       "\n",
       "---\n",
       "\n",
       "## Challenges and Limitations\n",
       "\n",
       "The process of scaling Large Language Models (LLMs) involves several intricate challenges and limitations that researchers and developers must navigate. Understanding these issues is critical for the informed advancement and practical application of these models.\n",
       "\n",
       "### Computational Cost\n",
       "\n",
       "One of the most significant challenges in scaling LLMs is the computational cost. Training state-of-the-art LLMs requires vast amounts of computational power, often relying on expensive specialized hardware such as GPUs or TPUs. This high computational demand translates to substantial financial costs, making it difficult for smaller organizations and independent researchers to participate in the development of LLMs. Additionally, the environmental impact of powering large-scale computational resources for extended periods raises ethical and sustainability concerns.\n",
       "\n",
       "### Data Availability\n",
       "\n",
       "Scalability is also heavily dependent on the availability of extensive and diverse datasets. For LLMs to generalize well and perform effectively across various tasks, they need to be trained on large volumes of high-quality data. However, sourcing such data can be problematic. Issues include data privacy concerns, the need for balanced representation of different languages and cultures, and the general difficulty in curating comprehensive datasets that avoid biases and inaccuracies. Data scarcity can lead to models that are less effective and potentially propagate harmful stereotypes or misinformation.\n",
       "\n",
       "### Diminishing Returns\n",
       "\n",
       "As LLMs become larger, the marginal improvements in performance begin to decrease, a concept known as diminishing returns. While initial increases in model size and complexity yield substantial gains in capabilities and accuracy, subsequent expansions often result in less significant enhancements. This plateau effect poses a challenge in justifying the continued investment of resources for seemingly incremental benefits. Researchers must weigh the trade-off between increased computational and data resource requirements against the actual performance gains achieved.\n",
       "\n",
       "### Potential Problems and Trade-offs\n",
       "\n",
       "Several problems and trade-offs emerge when addressing the challenges of scaling LLMs:\n",
       "\n",
       "1. **Resource Allocation**: Balancing the allocation of computational resources between training new models and fine-tuning or deploying existing ones requires strategic decision-making. Organizations must determine the most effective use of their resources to meet their goals without overextending themselves.\n",
       "\n",
       "2. **Model Interpretability**: Larger models are often more complex and less interpretable. This lack of transparency can be problematic when LLMs are applied in sensitive or high-stakes scenarios where accountability and understanding of decision-making processes are crucial.\n",
       "\n",
       "3. **Ethical and Social Implications**: As LLMs gain more capabilities, ensuring their ethical use becomes increasingly important. There is a risk of misuse in generating harmful or deceptive content, as well as exacerbating biases present in training data. Researchers must develop strategies to mitigate these risks while balancing innovation with responsibility.\n",
       "\n",
       "4. **Infrastructure and Maintenance**: Maintaining the infrastructure needed for scaling LLMs, including data storage, computational capacity, and continuous updates, is complex and resource-intensive. Long-term sustainability and reliability of such infrastructure are critical concerns, particularly for smaller entities.\n",
       "\n",
       "In conclusion, while scaling LLMs holds the potential for significant advancements in natural language processing and various applications, it is accompanied by substantial challenges and limitations. Addressing these issues requires careful consideration of computational costs, data availability, diminishing returns, and the associated trade-offs to ensure that the development of LLMs remains both viable and beneficial.\n",
       "\n",
       "---\n",
       "\n",
       "## Future Directions\n",
       "\n",
       "The continuous evolution of Large Language Models (LLMs) is heavily influenced by ongoing research and innovative methodologies. This section outlines potential future directions for research and development in LLM scaling laws, focusing on emerging trends, new methodologies, and innovative approaches that could further enhance our understanding and application of scaling laws in AI.\n",
       "\n",
       "### Emerging Trends\n",
       "\n",
       "**1. Multi-Modal LLMs:** Future LLMs are likely to integrate multiple data modalities, such as text, vision, and audio. This multi-modal approach can lead to more robust and versatile models capable of understanding and generating human-like responses across different types of inputs.\n",
       "\n",
       "**2. Efficient Model Scaling:** As computational resources become a limiting factor, there is a trend toward developing more efficient models. Techniques like model pruning, quantization, and knowledge distillation can significantly reduce model size and inference time without compromising performance.\n",
       "\n",
       "**3. Continued Advances in Hardware:** The development of specialized AI accelerators and quantum computing holds the promise of scaling LLMs to unprecedented sizes. These advancements in hardware could enable the training of models that are currently computationally infeasible.\n",
       "\n",
       "### New Methodologies\n",
       "\n",
       "**1. Self-Supervised Learning:** Advancements in self-supervised learning techniques, where models learn from vast amounts of unlabeled data, could contribute significantly to the scaling of LLMs. This approach can enhance the model's ability to generalize from limited annotated data.\n",
       "\n",
       "**2. Federated Learning:** Collaborative learning paradigms, such as federated learning, allow multiple institutions to train models collectively without sharing sensitive data. This methodology could aid in scaling LLMs in a privacy-preserving manner.\n",
       "\n",
       "**3. Adaptive Computation:** Implementing adaptive computation strategies, where the model dynamically adjusts its resources based on the complexity of the input, can lead to more efficient LLMs. This approach may involve varying the number of layers or attention heads used during inference.\n",
       "\n",
       "### Innovative Approaches\n",
       "\n",
       "**1. Hierarchical Models:** Developing hierarchical models that break down complex tasks into simpler sub-tasks could enhance scaling. This modular approach allows different parts of the model to specialize and scale independently, potentially leading to more effective and scalable architectures.\n",
       "\n",
       "**2. Human-in-the-Loop Systems:** Incorporating human feedback mechanisms into the training loop can help in fine-tuning LLMs more efficiently. Active learning strategies, where the model seeks human input on ambiguous or critical predictions, could improve the model's performance and scalability.\n",
       "\n",
       "**3. Neurosymbolic Integration:** Combining neural networks with symbolic reasoning can harness the strengths of both paradigms. This integration could lead to more interpretable and scalable models, particularly for tasks requiring logical inference and reasoning.\n",
       "\n",
       "### Conclusion\n",
       "\n",
       "The future of LLM scaling laws is poised for significant advancements driven by emerging trends, novel methodologies, and innovative approaches. By continuing to explore these directions, researchers and developers can push the boundaries of what is possible with LLMs, leading to more powerful, efficient, and versatile AI systems.\n",
       "\n",
       "---\n",
       "\n",
       "## Conclusion\n",
       "\n",
       "This report has comprehensively explored the significance of scaling laws in the context of Large Language Models (LLMs). We have discussed how scaling laws serve as a fundamental framework for understanding the growth and performance of LLMs. Key points include:\n",
       "\n",
       "- **Understanding Scaling Laws**: Scaling laws provide critical insights into how models improve as they are scaled up in terms of parameters, data, and compute resources. This understanding helps in predicting performance and guiding the development of more efficient and effective models.\n",
       "\n",
       "- **Efficiency and Performance**: Through scaling laws, researchers can optimize the allocation of computational resources and improve the overall efficiency of model training and deployment. This leads to better-performing models that require lower costs and resources.\n",
       "\n",
       "- **Benchmarking and Progress**: Scaling laws offer a benchmark for comparing different LLMs and tracking the progress in AI research. By adhering to these laws, researchers can set realistic goals and milestones for future advancements in AI technology.\n",
       "\n",
       "- **Generalization Capabilities**: The application of scaling laws highlights the importance of model size and training data in enhancing the generalization capabilities of LLMs. As models scale, their ability to generalize from training data to diverse real-world tasks improves significantly.\n",
       "\n",
       "- **Economic and Ethical Implications**: Scaling laws also bring forth discussions on the economic and ethical implications of deploying extremely large models. Balancing size, performance, and responsible use becomes crucial as LLMs continue to grow.\n",
       "\n",
       "The potential impact of scaling laws on the future of AI research and technology cannot be overstated. As we continue to scale LLMs, we unlock new possibilities for innovation, enabling more advanced applications in natural language processing, automated reasoning, and beyond. Scaling laws will remain a keystone in guiding the next generation of AI advancements, shaping a future where AI systems are more powerful, efficient, and aligned with human values."
      ],
      "text/plain": [
       "<IPython.core.display.Markdown object>"
      ]
     },
     "execution_count": 12,
     "metadata": {},
     "output_type": "execute_result"
    }
   ],
   "source": [
    "# 워크플로우 빌더 초기화\n",
    "orchestrator_worker_builder = StateGraph(State)\n",
    "\n",
    "# 노드 추가\n",
    "orchestrator_worker_builder.add_node(\"orchestrator\", orchestrator)\n",
    "orchestrator_worker_builder.add_node(\"llm_call\", llm_call)\n",
    "orchestrator_worker_builder.add_node(\"synthesizer\", synthesizer)\n",
    "\n",
    "# 노드 간 edge 설정\n",
    "orchestrator_worker_builder.add_edge(START, \"orchestrator\")\n",
    "orchestrator_worker_builder.add_conditional_edges(\n",
    "    \"orchestrator\", assign_workers, [\"llm_call\"]\n",
    ")\n",
    "orchestrator_worker_builder.add_edge(\"llm_call\", \"synthesizer\")\n",
    "orchestrator_worker_builder.add_edge(\"synthesizer\", END)\n",
    "\n",
    "# 워크플로우 컴파일\n",
    "orchestrator_worker = orchestrator_worker_builder.compile()\n",
    "\n",
    "# 실행 예시\n",
    "state = orchestrator_worker.invoke({\"topic\": \"Create a report on LLM scaling laws\"})\n",
    "\n",
    "from IPython.display import Markdown\n",
    "Markdown(state[\"final_report\"])\n"
   ]
  },
  {
   "cell_type": "code",
   "execution_count": 13,
   "id": "f86ffcb9",
   "metadata": {},
   "outputs": [
    {
     "data": {
      "image/png": "[encoded data removed]",
      "text/plain": [
       "<langgraph.graph.state.CompiledStateGraph object at 0x00000275ADBDFCE0>"
      ]
     },
     "execution_count": 13,
     "metadata": {},
     "output_type": "execute_result"
    }
   ],
   "source": [
    "orchestrator_worker"
   ]
  },
  {
   "cell_type": "markdown",
   "id": "0b038c88",
   "metadata": {},
   "source": [
    "## Evaluator-Optimizer"
   ]
  },
  {
   "cell_type": "code",
   "execution_count": 14,
   "id": "35694d59",
   "metadata": {},
   "outputs": [
    {
     "name": "stdout",
     "output_type": "stream",
     "text": [
      "Why did the cat sit on the keyboard?  \n",
      "To keep an eye on the mouse!\n"
     ]
    }
   ],
   "source": [
    "# Graph state 정의\n",
    "class State(TypedDict):\n",
    "    joke: str\n",
    "    topic: str\n",
    "    feedback: str\n",
    "    funny_or_not: str\n",
    "\n",
    "# 평가 시 사용할 structured output의 스키마 정의\n",
    "class Feedback(BaseModel):\n",
    "    grade: Literal[\"funny\", \"not funny\"] = Field(\n",
    "        description=\"이 농담이 웃긴지 아닌지를 결정하세요.\",\n",
    "    )\n",
    "    feedback: str = Field(\n",
    "        description=\"농담이 웃기지 않다면 어떻게 개선할 수 있을지 피드백을 작성하세요.\",\n",
    "    )\n",
    "\n",
    "# structured output을 위해 LLM을 스키마로 보강\n",
    "evaluator = llm.with_structured_output(Feedback, method=\"function_calling\")\n",
    "\n",
    "# 농담 생성 노드\n",
    "def llm_call_generator(state: State):\n",
    "    \"\"\"LLM이 농담을 생성\"\"\"\n",
    "    if state.get(\"feedback\"):\n",
    "        msg = llm.invoke(\n",
    "            f\"Write a joke about {state['topic']} but take into account the feedback: {state['feedback']}\"\n",
    "        )\n",
    "    else:\n",
    "        msg = llm.invoke(f\"Write a joke about {state['topic']}\")\n",
    "    return {\"joke\": msg.content}\n",
    "\n",
    "# 농담 평가 노드\n",
    "def llm_call_evaluator(state: State):\n",
    "    \"\"\"LLM이 농담을 평가\"\"\"\n",
    "    grade = evaluator.invoke(f\"Grade the joke {state['joke']}\")\n",
    "    return {\"funny_or_not\": grade.grade, \"feedback\": grade.feedback}\n",
    "\n",
    "# 평가 결과에 따라 다음 노드를 결정\n",
    "def route_joke(state: State):\n",
    "    \"\"\"평가자 피드백을 기반으로 농담 생성기로 다시 라우팅할지 종료할지 결정\"\"\"\n",
    "    if state[\"funny_or_not\"] == \"funny\":\n",
    "        return \"Accepted\"\n",
    "    elif state[\"funny_or_not\"] == \"not funny\":\n",
    "        return \"Rejected + Feedback\"\n",
    "\n",
    "# 워크플로우 정의 및 구성\n",
    "optimizer_builder = StateGraph(State)\n",
    "optimizer_builder.add_node(\"llm_call_generator\", llm_call_generator)\n",
    "optimizer_builder.add_node(\"llm_call_evaluator\", llm_call_evaluator)\n",
    "optimizer_builder.add_edge(START, \"llm_call_generator\")\n",
    "optimizer_builder.add_edge(\"llm_call_generator\", \"llm_call_evaluator\")\n",
    "optimizer_builder.add_conditional_edges(\n",
    "    \"llm_call_evaluator\",\n",
    "    route_joke,\n",
    "    {\n",
    "        \"Accepted\": END,\n",
    "        \"Rejected + Feedback\": \"llm_call_generator\",\n",
    "    },\n",
    ")\n",
    "\n",
    "# 워크플로우 컴파일 및 실행\n",
    "optimizer_workflow = optimizer_builder.compile()\n",
    "state = optimizer_workflow.invoke({\"topic\": \"Cats\"})\n",
    "print(state[\"joke\"])"
   ]
  },
  {
   "cell_type": "code",
   "execution_count": 15,
   "id": "6dccb665",
   "metadata": {},
   "outputs": [
    {
     "data": {
      "image/png": "[encoded data removed]",
      "text/plain": [
       "<langgraph.graph.state.CompiledStateGraph object at 0x00000275ADCD7A80>"
      ]
     },
     "execution_count": 15,
     "metadata": {},
     "output_type": "execute_result"
    }
   ],
   "source": [
    "optimizer_workflow"
   ]
  },
  {
   "cell_type": "markdown",
   "id": "40fc1073",
   "metadata": {},
   "source": [
    "## Agent"
   ]
  },
  {
   "cell_type": "code",
   "execution_count": 16,
   "id": "9163c3d9",
   "metadata": {},
   "outputs": [],
   "source": [
    "from langchain_core.tools import tool\n",
    "\n",
    "# 도구 정의\n",
    "@tool\n",
    "def multiply(a: int, b: int) -> int:\n",
    "    \"\"\"a와 b를 곱합니다.\n",
    "\n",
    "    Args:\n",
    "        a: 첫 번째 정수\n",
    "        b: 두 번째 정수\n",
    "    \"\"\"\n",
    "    return a * b\n",
    "\n",
    "@tool\n",
    "def add(a: int, b: int) -> int:\n",
    "    \"\"\"a와 b를 더합니다.\n",
    "\n",
    "    Args:\n",
    "        a: 첫 번째 정수\n",
    "        b: 두 번째 정수\n",
    "    \"\"\"\n",
    "    return a + b\n",
    "\n",
    "@tool\n",
    "def divide(a: int, b: int) -> float:\n",
    "    \"\"\"a를 b로 나눕니다.\n",
    "\n",
    "    Args:\n",
    "        a: 첫 번째 정수\n",
    "        b: 두 번째 정수\n",
    "    \"\"\"\n",
    "    return a / b\n",
    "\n",
    "# LLM에 도구 연결\n",
    "tools = [add, multiply, divide]\n",
    "tools_by_name = {tool.name: tool for tool in tools}\n",
    "llm_with_tools = llm.bind_tools(tools)"
   ]
  },
  {
   "cell_type": "code",
   "execution_count": 17,
   "id": "a2e25760",
   "metadata": {},
   "outputs": [],
   "source": [
    "from langgraph.graph import MessagesState\n",
    "from langchain_core.messages import SystemMessage, HumanMessage, ToolMessage\n",
    "\n",
    "# 노드 정의\n",
    "def llm_call(state: MessagesState):\n",
    "    \"\"\"LLM이 도구 호출 여부를 판단합니다.\"\"\"\n",
    "    return {\n",
    "        \"messages\": [\n",
    "            llm_with_tools.invoke(\n",
    "                [SystemMessage(content=\"You are a helpful assistant tasked with performing arithmetic on a set of inputs.\")]\n",
    "                + state[\"messages\"]\n",
    "            )\n",
    "        ]\n",
    "    }\n",
    "\n",
    "def tool_node(state: dict):\n",
    "    \"\"\"도구 호출을 수행합니다.\"\"\"\n",
    "    result = []\n",
    "    for tool_call in state[\"messages\"][-1].tool_calls:\n",
    "        tool = tools_by_name[tool_call[\"name\"]]\n",
    "        observation = tool.invoke(tool_call[\"args\"])\n",
    "        result.append(ToolMessage(content=observation, tool_call_id=tool_call[\"id\"]))\n",
    "    return {\"messages\": result}\n",
    "\n",
    "# 조건 분기 함수 (도구 호출 여부에 따라 다음 노드를 결정)\n",
    "def should_continue(state: MessagesState) -> Literal[\"environment\", END]:\n",
    "    \"\"\"LLM이 도구를 호출했는지에 따라 루프를 계속할지 결정합니다.\"\"\"\n",
    "    messages = state[\"messages\"]\n",
    "    last_message = messages[-1]\n",
    "    if last_message.tool_calls:\n",
    "        return \"Action\"\n",
    "    return END\n",
    "\n",
    "\n",
    "# 워크플로우 빌더 생성\n",
    "agent_builder = StateGraph(MessagesState)\n",
    "\n",
    "# 노드 추가\n",
    "agent_builder.add_node(\"llm_call\", llm_call)\n",
    "agent_builder.add_node(\"environment\", tool_node)\n",
    "\n",
    "# 노드 간 엣지 추가\n",
    "agent_builder.add_edge(START, \"llm_call\")\n",
    "agent_builder.add_conditional_edges(\n",
    "    \"llm_call\",\n",
    "    should_continue,\n",
    "    {\n",
    "        \"Action\": \"environment\",\n",
    "        END: END,\n",
    "    },\n",
    ")\n",
    "agent_builder.add_edge(\"environment\", \"llm_call\")\n",
    "\n",
    "# 에이전트 컴파일\n",
    "agent = agent_builder.compile()\n"
   ]
  },
  {
   "cell_type": "code",
   "execution_count": 18,
   "id": "84940033",
   "metadata": {},
   "outputs": [
    {
     "data": {
      "image/png": "[encoded data removed]",
      "text/plain": [
       "<langgraph.graph.state.CompiledStateGraph object at 0x00000275ADDDBD10>"
      ]
     },
     "execution_count": 18,
     "metadata": {},
     "output_type": "execute_result"
    }
   ],
   "source": [
    "agent"
   ]
  },
  {
   "cell_type": "code",
   "execution_count": 19,
   "id": "15b16383",
   "metadata": {},
   "outputs": [
    {
     "name": "stdout",
     "output_type": "stream",
     "text": [
      "================================\u001B[1m Human Message \u001B[0m=================================\n",
      "\n",
      "Add 3 and 4.\n",
      "==================================\u001B[1m Ai Message \u001B[0m==================================\n",
      "Tool Calls:\n",
      "  add (call_nIAItcdjV1QZYJFkGU9ItSPI)\n",
      " Call ID: call_nIAItcdjV1QZYJFkGU9ItSPI\n",
      "  Args:\n",
      "    a: 3\n",
      "    b: 4\n",
      "=================================\u001B[1m Tool Message \u001B[0m=================================\n",
      "\n",
      "7\n",
      "==================================\u001B[1m Ai Message \u001B[0m==================================\n",
      "\n",
      "The result of adding 3 and 4 is 7.\n"
     ]
    }
   ],
   "source": [
    "# 에이전트 실행\n",
    "messages = [HumanMessage(content=\"Add 3 and 4.\")]\n",
    "messages = agent.invoke({\"messages\": messages})\n",
    "for m in messages[\"messages\"]:\n",
    "    m.pretty_print()"
   ]
  },
  {
   "cell_type": "code",
   "execution_count": 20,
   "id": "aace7500",
   "metadata": {},
   "outputs": [
    {
     "name": "stdout",
     "output_type": "stream",
     "text": [
      "================================\u001B[1m Human Message \u001B[0m=================================\n",
      "\n",
      "Add 3 and 4.\n",
      "==================================\u001B[1m Ai Message \u001B[0m==================================\n",
      "Tool Calls:\n",
      "  add (call_k6vRW58wAajp5k0Zmm9qblMZ)\n",
      " Call ID: call_k6vRW58wAajp5k0Zmm9qblMZ\n",
      "  Args:\n",
      "    a: 3\n",
      "    b: 4\n",
      "=================================\u001B[1m Tool Message \u001B[0m=================================\n",
      "Name: add\n",
      "\n",
      "7\n",
      "==================================\u001B[1m Ai Message \u001B[0m==================================\n",
      "\n",
      "The sum of 3 and 4 is 7.\n"
     ]
    }
   ],
   "source": [
    "from langgraph.prebuilt import create_react_agent\n",
    "\n",
    "# Pass in:\n",
    "# (1) the augmented LLM with tools\n",
    "# (2) the tools list (which is used to create the tool node)\n",
    "pre_built_agent = create_react_agent(llm, tools=tools)\n",
    "\n",
    "# Invoke\n",
    "messages = [HumanMessage(content=\"Add 3 and 4.\")]\n",
    "messages = pre_built_agent.invoke({\"messages\": messages})\n",
    "for m in messages[\"messages\"]:\n",
    "    m.pretty_print()"
   ]
  },
  {
   "cell_type": "code",
   "execution_count": 21,
   "id": "9e31b31c",
   "metadata": {},
   "outputs": [
    {
     "data": {
      "image/png": "[encoded data removed]",
      "text/plain": [
       "<langgraph.graph.state.CompiledStateGraph object at 0x00000275ADCAA470>"
      ]
     },
     "execution_count": 21,
     "metadata": {},
     "output_type": "execute_result"
    }
   ],
   "source": [
    "pre_built_agent"
   ]
  },
  {
   "cell_type": "code",
   "execution_count": null,
   "id": "e1d61731",
   "metadata": {},
   "outputs": [],
   "source": []
  }
 ],
 "metadata": {
  "kernelspec": {
   "display_name": ".venv",
   "language": "python",
   "name": "python3"
  },
  "language_info": {
   "codemirror_mode": {
    "name": "ipython",
    "version": 3
   },
   "file_extension": ".py",
   "mimetype": "text/x-python",
   "name": "python",
   "nbconvert_exporter": "python",
   "pygments_lexer": "ipython3",
   "version": "3.13.2"
  }
 },
 "nbformat": 4,
 "nbformat_minor": 5
}
